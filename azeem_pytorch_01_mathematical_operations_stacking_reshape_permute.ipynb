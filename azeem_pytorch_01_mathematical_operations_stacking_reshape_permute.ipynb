{
 "cells": [
  {
   "cell_type": "code",
   "execution_count": 1,
   "metadata": {
    "id": "S6-hQlZJ5gcq"
   },
   "outputs": [],
   "source": [
    "import torch\n",
    "import pandas as pd\n",
    "import numpy as np"
   ]
  },
  {
   "cell_type": "markdown",
   "metadata": {
    "id": "iCNJBiW16HTo"
   },
   "source": [
    "### MATHEMATICAL OPERATIONS ON TENSORS\n",
    "\n",
    "- Tensors Addition\n",
    "- Tensors subtraction\n",
    "- Tensors Multiplication (element wise)\n",
    "- Tensors Divison\n",
    "- Tensors Multiplication(matrix multiplication)"
   ]
  },
  {
   "cell_type": "markdown",
   "metadata": {
    "id": "EyyxjzV26jgE"
   },
   "source": [
    "#### USING OPERATORS"
   ]
  },
  {
   "cell_type": "code",
   "execution_count": null,
   "metadata": {
    "colab": {
     "base_uri": "https://localhost:8080/"
    },
    "id": "z5KR54rb5y6K",
    "outputId": "55d347dc-3f62-4e91-c4b2-8d979b2cd37b"
   },
   "outputs": [
    {
     "data": {
      "text/plain": [
       "(tensor([[[1, 2, 3],\n",
       "          [1, 2, 3],\n",
       "          [1, 2, 3]]]),\n",
       " 3,\n",
       " torch.Size([1, 3, 3]))"
      ]
     },
     "execution_count": 3,
     "metadata": {},
     "output_type": "execute_result"
    }
   ],
   "source": [
    "### CREATING A TENSOR\n",
    "TENSOR_A=torch.tensor([[[1,2,3],[1,2,3],[1,2,3]]])\n",
    "TENSOR_A,TENSOR_A.ndim,TENSOR_A.shape"
   ]
  },
  {
   "cell_type": "code",
   "execution_count": null,
   "metadata": {
    "colab": {
     "base_uri": "https://localhost:8080/"
    },
    "id": "f7qxlW-Z7JgD",
    "outputId": "1a43c56f-fd82-45d2-f38e-5cc17cd531ee"
   },
   "outputs": [
    {
     "data": {
      "text/plain": [
       "tensor([[[101, 102, 103],\n",
       "         [101, 102, 103],\n",
       "         [101, 102, 103]]])"
      ]
     },
     "execution_count": 4,
     "metadata": {},
     "output_type": "execute_result"
    }
   ],
   "source": [
    "## addition with a scalar\n",
    "TENSOR_A+100"
   ]
  },
  {
   "cell_type": "code",
   "execution_count": null,
   "metadata": {
    "colab": {
     "base_uri": "https://localhost:8080/"
    },
    "id": "3JaEV3-w7Xki",
    "outputId": "f2c09f6d-e563-4be9-eaf8-dd030abb5dc4"
   },
   "outputs": [
    {
     "data": {
      "text/plain": [
       "tensor([[[0, 1, 2],\n",
       "         [0, 1, 2],\n",
       "         [0, 1, 2]]])"
      ]
     },
     "execution_count": 5,
     "metadata": {},
     "output_type": "execute_result"
    }
   ],
   "source": [
    "###subtraction with scalar\n",
    "TENSOR_A-1"
   ]
  },
  {
   "cell_type": "code",
   "execution_count": null,
   "metadata": {
    "colab": {
     "base_uri": "https://localhost:8080/"
    },
    "id": "tkGZBy4Q7goT",
    "outputId": "e4af78c9-1118-4ae2-a1a2-83cac4bc1f03"
   },
   "outputs": [
    {
     "data": {
      "text/plain": [
       "tensor([[[10, 20, 30],\n",
       "         [10, 20, 30],\n",
       "         [10, 20, 30]]])"
      ]
     },
     "execution_count": 6,
     "metadata": {},
     "output_type": "execute_result"
    }
   ],
   "source": [
    "###multiplocation with scalar\n",
    "TENSOR_A*10"
   ]
  },
  {
   "cell_type": "code",
   "execution_count": null,
   "metadata": {
    "colab": {
     "base_uri": "https://localhost:8080/"
    },
    "id": "LAa4T34t7sja",
    "outputId": "405dbbc4-bf3b-4fc9-daf1-9c180239a8fd"
   },
   "outputs": [
    {
     "data": {
      "text/plain": [
       "tensor([[[0.1000, 0.2000, 0.3000],\n",
       "         [0.1000, 0.2000, 0.3000],\n",
       "         [0.1000, 0.2000, 0.3000]]])"
      ]
     },
     "execution_count": 8,
     "metadata": {},
     "output_type": "execute_result"
    }
   ],
   "source": [
    "##divison with scalar\n",
    "TENSOR_A/10"
   ]
  },
  {
   "cell_type": "markdown",
   "metadata": {
    "id": "j9U_9aKh8KXN"
   },
   "source": [
    "#### using PyTorch inbuilt functions"
   ]
  },
  {
   "cell_type": "code",
   "execution_count": null,
   "metadata": {
    "colab": {
     "base_uri": "https://localhost:8080/"
    },
    "id": "EznoYPZ9739p",
    "outputId": "c985ad54-6b96-4e79-8629-f5e782262c08"
   },
   "outputs": [
    {
     "data": {
      "text/plain": [
       "tensor([[[101, 102, 103],\n",
       "         [101, 102, 103],\n",
       "         [101, 102, 103]]])"
      ]
     },
     "execution_count": 9,
     "metadata": {},
     "output_type": "execute_result"
    }
   ],
   "source": [
    "##addition\n",
    "torch.add(TENSOR_A,100)"
   ]
  },
  {
   "cell_type": "code",
   "execution_count": null,
   "metadata": {
    "colab": {
     "base_uri": "https://localhost:8080/"
    },
    "id": "1AcV5s1w8hdY",
    "outputId": "355aeb82-3663-4ee1-d695-6e8fb2ae878b"
   },
   "outputs": [
    {
     "data": {
      "text/plain": [
       "tensor([[[0, 1, 2],\n",
       "         [0, 1, 2],\n",
       "         [0, 1, 2]]])"
      ]
     },
     "execution_count": 10,
     "metadata": {},
     "output_type": "execute_result"
    }
   ],
   "source": [
    "##subtraction\n",
    "torch.sub(TENSOR_A,1)"
   ]
  },
  {
   "cell_type": "code",
   "execution_count": null,
   "metadata": {
    "colab": {
     "base_uri": "https://localhost:8080/"
    },
    "id": "GA-siCTc8yTA",
    "outputId": "bd25e0a2-bd98-4022-d43a-e4ade78ceb03"
   },
   "outputs": [
    {
     "data": {
      "text/plain": [
       "tensor([[[10, 20, 30],\n",
       "         [10, 20, 30],\n",
       "         [10, 20, 30]]])"
      ]
     },
     "execution_count": 11,
     "metadata": {},
     "output_type": "execute_result"
    }
   ],
   "source": [
    "#multiplocation\n",
    "torch.mul(TENSOR_A,10)"
   ]
  },
  {
   "cell_type": "code",
   "execution_count": null,
   "metadata": {
    "colab": {
     "base_uri": "https://localhost:8080/"
    },
    "id": "h6xXpvui9DV3",
    "outputId": "b8ad846e-aff3-44c5-caff-3a99f1c0a698"
   },
   "outputs": [
    {
     "data": {
      "text/plain": [
       "tensor([[[0.1000, 0.2000, 0.3000],\n",
       "         [0.1000, 0.2000, 0.3000],\n",
       "         [0.1000, 0.2000, 0.3000]]])"
      ]
     },
     "execution_count": 12,
     "metadata": {},
     "output_type": "execute_result"
    }
   ],
   "source": [
    "#divison\n",
    "torch.div(TENSOR_A,10)"
   ]
  },
  {
   "cell_type": "markdown",
   "metadata": {
    "id": "RpDYZgc7_tBu"
   },
   "source": [
    "### MATRIX MULTIPLICATION\n",
    "- Matrix multiplication elementwise\n",
    "- Matrix multiplication (dot product)(@ symbol is for matrix multiplication)\n",
    "\n",
    "We need to understand the how the tensors are multiplied because dot product is the heart of machine learning and deep learning  \n",
    "\n",
    "- tirch.mm() is also used for matrix multiplication"
   ]
  },
  {
   "cell_type": "code",
   "execution_count": null,
   "metadata": {
    "colab": {
     "base_uri": "https://localhost:8080/"
    },
    "id": "FKYdV_wh9MSI",
    "outputId": "d640fadc-3c25-4371-d604-26712bb3fa33"
   },
   "outputs": [
    {
     "data": {
      "text/plain": [
       "tensor([[[1, 2, 3],\n",
       "         [1, 2, 3],\n",
       "         [1, 2, 3]]])"
      ]
     },
     "execution_count": 13,
     "metadata": {},
     "output_type": "execute_result"
    }
   ],
   "source": [
    "TENSOR_A"
   ]
  },
  {
   "cell_type": "code",
   "execution_count": null,
   "metadata": {
    "colab": {
     "base_uri": "https://localhost:8080/"
    },
    "id": "FGjnzr8-AaFj",
    "outputId": "241c0e75-3778-47e3-eab8-584b176aace7"
   },
   "outputs": [
    {
     "data": {
      "text/plain": [
       "(tensor([[[4, 5, 6],\n",
       "          [4, 5, 6],\n",
       "          [4, 5, 6]]]),\n",
       " 3,\n",
       " torch.Size([1, 3, 3]))"
      ]
     },
     "execution_count": 16,
     "metadata": {},
     "output_type": "execute_result"
    }
   ],
   "source": [
    "## creating another Tensor\n",
    "TENSOR_B=torch.tensor([[[4,5,6],[4,5,6,],[4,5,6]]])\n",
    "TENSOR_B,TENSOR_B.ndim,TENSOR_B.shape"
   ]
  },
  {
   "cell_type": "code",
   "execution_count": null,
   "metadata": {
    "colab": {
     "base_uri": "https://localhost:8080/"
    },
    "id": "e16Q8Y0EA3I0",
    "outputId": "1273dfbb-b02b-47d0-826c-720ba93c23e3"
   },
   "outputs": [
    {
     "data": {
      "text/plain": [
       "tensor([[[ 4, 10, 18],\n",
       "         [ 4, 10, 18],\n",
       "         [ 4, 10, 18]]])"
      ]
     },
     "execution_count": 21,
     "metadata": {},
     "output_type": "execute_result"
    }
   ],
   "source": [
    "###multiplying tensor a with b elemtwise\n",
    "torch.mul(TENSOR_A,TENSOR_B)"
   ]
  },
  {
   "cell_type": "code",
   "execution_count": null,
   "metadata": {
    "colab": {
     "base_uri": "https://localhost:8080/"
    },
    "id": "BQ82aRkCBU4B",
    "outputId": "2ae97119-be3e-4db8-fdeb-cdc40d1f04bf"
   },
   "outputs": [
    {
     "data": {
      "text/plain": [
       "tensor([[[24, 30, 36],\n",
       "         [24, 30, 36],\n",
       "         [24, 30, 36]]])"
      ]
     },
     "execution_count": 22,
     "metadata": {},
     "output_type": "execute_result"
    }
   ],
   "source": [
    "##dot product\n",
    "torch.matmul(TENSOR_A,TENSOR_B)"
   ]
  },
  {
   "cell_type": "code",
   "execution_count": null,
   "metadata": {
    "colab": {
     "base_uri": "https://localhost:8080/"
    },
    "id": "TCp99vjuEopb",
    "outputId": "898846e1-edd0-4fbe-fd0b-5bd6d3475b5e"
   },
   "outputs": [
    {
     "data": {
      "text/plain": [
       "tensor([[[24, 30, 36],\n",
       "         [24, 30, 36],\n",
       "         [24, 30, 36]]])"
      ]
     },
     "execution_count": 36,
     "metadata": {},
     "output_type": "execute_result"
    }
   ],
   "source": [
    "## @ symbol is used for matrix multiplication\n",
    "TENSOR_A @ TENSOR_B"
   ]
  },
  {
   "cell_type": "code",
   "execution_count": null,
   "metadata": {
    "colab": {
     "base_uri": "https://localhost:8080/"
    },
    "id": "Gk53eFXoCOOd",
    "outputId": "0603ba11-f8f5-4bd6-b9cb-584a1c004ffe"
   },
   "outputs": [
    {
     "data": {
      "text/plain": [
       "tensor([1, 2, 3])"
      ]
     },
     "execution_count": 25,
     "metadata": {},
     "output_type": "execute_result"
    }
   ],
   "source": [
    "vect_tensor=torch.tensor([1,2,3])\n",
    "vect_tensor"
   ]
  },
  {
   "cell_type": "code",
   "execution_count": null,
   "metadata": {
    "colab": {
     "base_uri": "https://localhost:8080/"
    },
    "id": "UdGBgptqC_pA",
    "outputId": "539d5d74-88cc-41cf-d137-3ee86125acf5"
   },
   "outputs": [
    {
     "name": "stdout",
     "output_type": "stream",
     "text": [
      "CPU times: user 111 µs, sys: 6 µs, total: 117 µs\n",
      "Wall time: 123 µs\n"
     ]
    },
    {
     "data": {
      "text/plain": [
       "tensor(14)"
      ]
     },
     "execution_count": 34,
     "metadata": {},
     "output_type": "execute_result"
    }
   ],
   "source": [
    "%%time\n",
    "torch.matmul(vect_tensor,vect_tensor)"
   ]
  },
  {
   "cell_type": "code",
   "execution_count": null,
   "metadata": {
    "colab": {
     "base_uri": "https://localhost:8080/"
    },
    "id": "tCh4tDFxDY0X",
    "outputId": "b8e282c5-045e-41f3-8905-218b012ec82e"
   },
   "outputs": [
    {
     "name": "stdout",
     "output_type": "stream",
     "text": [
      "CPU times: user 328 µs, sys: 0 ns, total: 328 µs\n",
      "Wall time: 335 µs\n"
     ]
    },
    {
     "data": {
      "text/plain": [
       "tensor(14)"
      ]
     },
     "execution_count": 35,
     "metadata": {},
     "output_type": "execute_result"
    }
   ],
   "source": [
    "%%time\n",
    "##using for loop\n",
    "value=0\n",
    "for i in range(len(vect_tensor)):\n",
    "  value+=vect_tensor[i]*vect_tensor[i]\n",
    "value"
   ]
  },
  {
   "cell_type": "markdown",
   "metadata": {
    "id": "dSlT5oYdGjD2"
   },
   "source": [
    "### RULES OF MATRIX MULTIPLICATION\n",
    "\n",
    "There are basically two rules of matrix multiplocation\n",
    "- Inner dimension should match\n",
    "- The resultant matrix will have the shape of outer dimension"
   ]
  },
  {
   "cell_type": "code",
   "execution_count": null,
   "metadata": {
    "colab": {
     "base_uri": "https://localhost:8080/"
    },
    "id": "-m7_RyA9D3c2",
    "outputId": "667aaa5a-9d57-4559-cb07-0a88a69ee04c"
   },
   "outputs": [
    {
     "data": {
      "text/plain": [
       "tensor([[0.5205, 0.6852, 0.6047],\n",
       "        [0.3868, 0.7980, 0.5668],\n",
       "        [0.3144, 0.4685, 0.3875]])"
      ]
     },
     "execution_count": 37,
     "metadata": {},
     "output_type": "execute_result"
    }
   ],
   "source": [
    "## multiplication of (3,2) shape tensor with (2,3)\n",
    "torch.matmul(torch.rand(3,2),torch.rand(2,3))"
   ]
  },
  {
   "cell_type": "code",
   "execution_count": null,
   "metadata": {
    "colab": {
     "base_uri": "https://localhost:8080/",
     "height": 158
    },
    "id": "MlQ0_w17HWHQ",
    "outputId": "b64c6e0b-dff3-448b-d89a-3543e043bcdf"
   },
   "outputs": [
    {
     "ename": "RuntimeError",
     "evalue": "mat1 and mat2 shapes cannot be multiplied (3x2 and 4x3)",
     "output_type": "error",
     "traceback": [
      "\u001b[0;31m---------------------------------------------------------------------------\u001b[0m",
      "\u001b[0;31mRuntimeError\u001b[0m                              Traceback (most recent call last)",
      "\u001b[0;32m<ipython-input-39-cb4d646938a2>\u001b[0m in \u001b[0;36m<cell line: 2>\u001b[0;34m()\u001b[0m\n\u001b[1;32m      1\u001b[0m \u001b[0;31m## multiplication of (3,2) shape tensor with (4,3)\u001b[0m\u001b[0;34m\u001b[0m\u001b[0;34m\u001b[0m\u001b[0m\n\u001b[0;32m----> 2\u001b[0;31m \u001b[0mtorch\u001b[0m\u001b[0;34m.\u001b[0m\u001b[0mmatmul\u001b[0m\u001b[0;34m(\u001b[0m\u001b[0mtorch\u001b[0m\u001b[0;34m.\u001b[0m\u001b[0mrand\u001b[0m\u001b[0;34m(\u001b[0m\u001b[0;36m3\u001b[0m\u001b[0;34m,\u001b[0m\u001b[0;36m2\u001b[0m\u001b[0;34m)\u001b[0m\u001b[0;34m,\u001b[0m\u001b[0mtorch\u001b[0m\u001b[0;34m.\u001b[0m\u001b[0mrand\u001b[0m\u001b[0;34m(\u001b[0m\u001b[0;36m4\u001b[0m\u001b[0;34m,\u001b[0m\u001b[0;36m3\u001b[0m\u001b[0;34m)\u001b[0m\u001b[0;34m)\u001b[0m\u001b[0;34m\u001b[0m\u001b[0;34m\u001b[0m\u001b[0m\n\u001b[0m",
      "\u001b[0;31mRuntimeError\u001b[0m: mat1 and mat2 shapes cannot be multiplied (3x2 and 4x3)"
     ]
    }
   ],
   "source": [
    "## multiplication of (3,2) shape tensor with (4,3)\n",
    "torch.matmul(torch.rand(3,2),torch.rand(4,3))"
   ]
  },
  {
   "cell_type": "code",
   "execution_count": null,
   "metadata": {
    "colab": {
     "base_uri": "https://localhost:8080/"
    },
    "id": "7nHWM0PaHdxB",
    "outputId": "da9441b7-37d8-4ad6-e17c-c3c454dfe123"
   },
   "outputs": [
    {
     "data": {
      "text/plain": [
       "tensor([[1.3228, 1.6704, 1.6468, 2.4405, 1.7488, 1.3549, 1.4537, 0.9437],\n",
       "        [0.9367, 1.2734, 1.0348, 1.7278, 1.1480, 1.0103, 1.0333, 0.8362],\n",
       "        [1.1553, 1.2892, 1.1307, 1.8686, 1.2890, 1.1400, 1.3193, 0.8411],\n",
       "        [1.2165, 1.6498, 1.7874, 2.4787, 1.8227, 1.2874, 1.2382, 0.8166],\n",
       "        [1.1233, 1.3848, 1.1106, 1.9496, 1.2786, 1.1895, 1.1845, 0.9404]])"
      ]
     },
     "execution_count": 40,
     "metadata": {},
     "output_type": "execute_result"
    }
   ],
   "source": [
    "## multiplication of (5,4) shape tensor with (4,8)\n",
    "torch.matmul(torch.rand(5,4),torch.rand(4,8))"
   ]
  },
  {
   "cell_type": "markdown",
   "metadata": {
    "id": "rJmJKxi2LLoY"
   },
   "source": [
    "### MOST COMMON OCCURENCES OF ERROR IN DEEP LEARNING : SHAPE ERRROR  \n",
    "\n",
    "- suppose we have two matrices  matrix_a having shape (3,2) and matrix_b having shape(3,2)\n",
    "- we can transpose matrix b and then apply matrix multiplication"
   ]
  },
  {
   "cell_type": "code",
   "execution_count": null,
   "metadata": {
    "colab": {
     "base_uri": "https://localhost:8080/"
    },
    "id": "3xbon3ajHyiO",
    "outputId": "02debc1b-fcb6-43c8-db94-7afd3bde600c"
   },
   "outputs": [
    {
     "data": {
      "text/plain": [
       "(tensor([[0.4278, 0.6497],\n",
       "         [0.0233, 0.6146],\n",
       "         [0.0586, 0.1511]]),\n",
       " 2,\n",
       " torch.Size([3, 2]))"
      ]
     },
     "execution_count": 41,
     "metadata": {},
     "output_type": "execute_result"
    }
   ],
   "source": [
    "##creating tensorA of size 3,2\n",
    "TENSOR_A=torch.rand(3,2)\n",
    "TENSOR_A,TENSOR_A.ndim,TENSOR_A.shape"
   ]
  },
  {
   "cell_type": "code",
   "execution_count": null,
   "metadata": {
    "colab": {
     "base_uri": "https://localhost:8080/"
    },
    "id": "KSisJuymMDhz",
    "outputId": "a74462d4-fb2d-408f-e8a8-576a0a04ca6c"
   },
   "outputs": [
    {
     "data": {
      "text/plain": [
       "(tensor([[0.5333, 0.3183],\n",
       "         [0.7754, 0.1287],\n",
       "         [0.4684, 0.5487]]),\n",
       " 2,\n",
       " torch.Size([3, 2]))"
      ]
     },
     "execution_count": 45,
     "metadata": {},
     "output_type": "execute_result"
    }
   ],
   "source": [
    "#creating tensorB of size 2,3\n",
    "TENSOR_B=torch.rand(3,2)\n",
    "TENSOR_B,TENSOR_B.ndim,TENSOR_B.shape"
   ]
  },
  {
   "cell_type": "code",
   "execution_count": null,
   "metadata": {
    "colab": {
     "base_uri": "https://localhost:8080/",
     "height": 158
    },
    "id": "otSMW2z4MRoh",
    "outputId": "befd24a8-eb3f-4206-db11-7407beec9078"
   },
   "outputs": [
    {
     "ename": "RuntimeError",
     "evalue": "mat1 and mat2 shapes cannot be multiplied (3x2 and 3x2)",
     "output_type": "error",
     "traceback": [
      "\u001b[0;31m---------------------------------------------------------------------------\u001b[0m",
      "\u001b[0;31mRuntimeError\u001b[0m                              Traceback (most recent call last)",
      "\u001b[0;32m<ipython-input-46-4225e7b5b0d2>\u001b[0m in \u001b[0;36m<cell line: 2>\u001b[0;34m()\u001b[0m\n\u001b[1;32m      1\u001b[0m \u001b[0;31m##multiplying\u001b[0m\u001b[0;34m\u001b[0m\u001b[0;34m\u001b[0m\u001b[0m\n\u001b[0;32m----> 2\u001b[0;31m \u001b[0mtorch\u001b[0m\u001b[0;34m.\u001b[0m\u001b[0mmatmul\u001b[0m\u001b[0;34m(\u001b[0m\u001b[0mTENSOR_A\u001b[0m\u001b[0;34m,\u001b[0m\u001b[0mTENSOR_B\u001b[0m\u001b[0;34m)\u001b[0m\u001b[0;34m\u001b[0m\u001b[0;34m\u001b[0m\u001b[0m\n\u001b[0m",
      "\u001b[0;31mRuntimeError\u001b[0m: mat1 and mat2 shapes cannot be multiplied (3x2 and 3x2)"
     ]
    }
   ],
   "source": [
    "##multiplying\n",
    "torch.matmul(TENSOR_A,TENSOR_B)"
   ]
  },
  {
   "cell_type": "code",
   "execution_count": null,
   "metadata": {
    "colab": {
     "base_uri": "https://localhost:8080/"
    },
    "id": "CyFs2te8M0WH",
    "outputId": "af6aa49d-2f0c-4dd1-ee2f-20a7add1e9dd"
   },
   "outputs": [
    {
     "data": {
      "text/plain": [
       "tensor([[0.4350, 0.4153, 0.5569],\n",
       "        [0.2080, 0.0971, 0.3481],\n",
       "        [0.0794, 0.0649, 0.1104]])"
      ]
     },
     "execution_count": 47,
     "metadata": {},
     "output_type": "execute_result"
    }
   ],
   "source": [
    "## taking transpose of TENSOR B and multiplying----transpose is denoted by Tensor.T\n",
    "torch.matmul(TENSOR_A,TENSOR_B.T)"
   ]
  },
  {
   "cell_type": "markdown",
   "metadata": {
    "id": "dI5JEY0fW0p1"
   },
   "source": [
    "### APPLYING AGGREGATE FUNCTION ON TENSORS\n",
    "- MIN\n",
    "- MAX\n",
    "- SUM\n",
    "- MEAN (mean functions requires float input datatype)"
   ]
  },
  {
   "cell_type": "code",
   "execution_count": 3,
   "metadata": {
    "colab": {
     "base_uri": "https://localhost:8080/"
    },
    "id": "EgH542QmNOJq",
    "outputId": "a43dcb5f-1315-4dae-8e07-10df7062a418"
   },
   "outputs": [
    {
     "data": {
      "text/plain": [
       "(tensor([1, 2, 3, 4, 5]), torch.int64)"
      ]
     },
     "execution_count": 3,
     "metadata": {},
     "output_type": "execute_result"
    }
   ],
   "source": [
    "int_tensor=torch.tensor([1,2,3,4,5])\n",
    "int_tensor,int_tensor.dtype"
   ]
  },
  {
   "cell_type": "code",
   "execution_count": 4,
   "metadata": {
    "colab": {
     "base_uri": "https://localhost:8080/"
    },
    "id": "OekTQ2TGX6wf",
    "outputId": "b758d5ca-1ab6-4f69-d31d-58d31d599b1a"
   },
   "outputs": [
    {
     "data": {
      "text/plain": [
       "(tensor(1), tensor(5), tensor(15))"
      ]
     },
     "execution_count": 4,
     "metadata": {},
     "output_type": "execute_result"
    }
   ],
   "source": [
    "### applying min,max,sum ----- first way\n",
    "torch.min(int_tensor),torch.max(int_tensor),torch.sum(int_tensor)"
   ]
  },
  {
   "cell_type": "code",
   "execution_count": 5,
   "metadata": {
    "colab": {
     "base_uri": "https://localhost:8080/"
    },
    "id": "_Yf2N1y1Yba2",
    "outputId": "8d5839ac-aeb0-4f7f-ecf9-55c53e888aed"
   },
   "outputs": [
    {
     "data": {
      "text/plain": [
       "(tensor(1), tensor(5), tensor(15))"
      ]
     },
     "execution_count": 5,
     "metadata": {},
     "output_type": "execute_result"
    }
   ],
   "source": [
    "#applying min,max,sum\n",
    "int_tensor.min(),int_tensor.max(),int_tensor.sum()"
   ]
  },
  {
   "cell_type": "code",
   "execution_count": 6,
   "metadata": {
    "colab": {
     "base_uri": "https://localhost:8080/",
     "height": 158
    },
    "id": "9-dxTqApY0jg",
    "outputId": "250cbc68-30b0-4911-c378-53782d2d76c4"
   },
   "outputs": [
    {
     "ename": "RuntimeError",
     "evalue": "mean(): could not infer output dtype. Input dtype must be either a floating point or complex dtype. Got: Long",
     "output_type": "error",
     "traceback": [
      "\u001b[0;31m---------------------------------------------------------------------------\u001b[0m",
      "\u001b[0;31mRuntimeError\u001b[0m                              Traceback (most recent call last)",
      "\u001b[0;32m<ipython-input-6-756c342a7c48>\u001b[0m in \u001b[0;36m<cell line: 2>\u001b[0;34m()\u001b[0m\n\u001b[1;32m      1\u001b[0m \u001b[0;31m#applying mean\u001b[0m\u001b[0;34m\u001b[0m\u001b[0;34m\u001b[0m\u001b[0m\n\u001b[0;32m----> 2\u001b[0;31m \u001b[0mtorch\u001b[0m\u001b[0;34m.\u001b[0m\u001b[0mmean\u001b[0m\u001b[0;34m(\u001b[0m\u001b[0mint_tensor\u001b[0m\u001b[0;34m)\u001b[0m\u001b[0;34m\u001b[0m\u001b[0;34m\u001b[0m\u001b[0m\n\u001b[0m",
      "\u001b[0;31mRuntimeError\u001b[0m: mean(): could not infer output dtype. Input dtype must be either a floating point or complex dtype. Got: Long"
     ]
    }
   ],
   "source": [
    "#applying mean\n",
    "torch.mean(int_tensor)"
   ]
  },
  {
   "cell_type": "code",
   "execution_count": 10,
   "metadata": {
    "colab": {
     "base_uri": "https://localhost:8080/"
    },
    "id": "_VQ1ZnXXZ43F",
    "outputId": "a8f9da51-0d8c-4514-fd8e-7bebab736e7e"
   },
   "outputs": [
    {
     "data": {
      "text/plain": [
       "(tensor(3.), tensor(3.))"
      ]
     },
     "execution_count": 10,
     "metadata": {},
     "output_type": "execute_result"
    }
   ],
   "source": [
    "##converting int tensor to float and then applying mean\n",
    "torch.mean(int_tensor.type(torch.float32)) ,int_tensor.type(torch.float32).mean()"
   ]
  },
  {
   "cell_type": "markdown",
   "metadata": {
    "id": "R3u56YHWdOpS"
   },
   "source": [
    "### FINDING THE POSITIONAL MIN AND MAX\n",
    "- argmin (finds the index where the minimum value occurs in a tensor )\n",
    "- argmax (finds the index where the maximum value occurs in a tensor )"
   ]
  },
  {
   "cell_type": "code",
   "execution_count": 11,
   "metadata": {
    "colab": {
     "base_uri": "https://localhost:8080/"
    },
    "id": "Q-IN65ZvaVjS",
    "outputId": "bb3c5443-d355-4187-e157-760941fea606"
   },
   "outputs": [
    {
     "data": {
      "text/plain": [
       "tensor([34, 56, 23, 78, 12, 54, 39])"
      ]
     },
     "execution_count": 11,
     "metadata": {},
     "output_type": "execute_result"
    }
   ],
   "source": [
    "tensor_xyz=torch.tensor([34,56,23,78,12,54,39])\n",
    "tensor_xyz"
   ]
  },
  {
   "cell_type": "code",
   "execution_count": 12,
   "metadata": {
    "colab": {
     "base_uri": "https://localhost:8080/"
    },
    "id": "ODGDEdkoeTa-",
    "outputId": "9e0c89a7-c9ef-43bd-9a04-5cd876a97a8f"
   },
   "outputs": [
    {
     "data": {
      "text/plain": [
       "tensor(4)"
      ]
     },
     "execution_count": 12,
     "metadata": {},
     "output_type": "execute_result"
    }
   ],
   "source": [
    "#finding argmin\n",
    "tensor_xyz.argmin()"
   ]
  },
  {
   "cell_type": "code",
   "execution_count": 13,
   "metadata": {
    "colab": {
     "base_uri": "https://localhost:8080/"
    },
    "id": "9EucUzxXefrH",
    "outputId": "29b514b5-c838-4548-9c5b-974f9838bee7"
   },
   "outputs": [
    {
     "data": {
      "text/plain": [
       "tensor(12)"
      ]
     },
     "execution_count": 13,
     "metadata": {},
     "output_type": "execute_result"
    }
   ],
   "source": [
    "#checking the minimum value\n",
    "tensor_xyz[tensor_xyz.argmin()]"
   ]
  },
  {
   "cell_type": "code",
   "execution_count": 14,
   "metadata": {
    "colab": {
     "base_uri": "https://localhost:8080/"
    },
    "id": "2hJ5nCpMevl7",
    "outputId": "5f1a031a-8c19-4ec4-fca2-0e2e5458b368"
   },
   "outputs": [
    {
     "data": {
      "text/plain": [
       "tensor(3)"
      ]
     },
     "execution_count": 14,
     "metadata": {},
     "output_type": "execute_result"
    }
   ],
   "source": [
    "#finding argmax\n",
    "tensor_xyz.argmax()"
   ]
  },
  {
   "cell_type": "code",
   "execution_count": 15,
   "metadata": {
    "colab": {
     "base_uri": "https://localhost:8080/"
    },
    "id": "qxzgrav9e2mK",
    "outputId": "cce8f036-ef97-45c0-8a2a-dd92371b3163"
   },
   "outputs": [
    {
     "data": {
      "text/plain": [
       "tensor(78)"
      ]
     },
     "execution_count": 15,
     "metadata": {},
     "output_type": "execute_result"
    }
   ],
   "source": [
    "#checking maximum value\n",
    "tensor_xyz[tensor_xyz.argmax()]"
   ]
  },
  {
   "cell_type": "markdown",
   "metadata": {
    "id": "ixN6vl1kisDM"
   },
   "source": [
    "### RESHAPING,STACKING,SQUEEZING AND UNSQUEEZING A TENSOR\n",
    "\n",
    "- RESHAPE--reshape an input tensor to a given shape\n",
    "- VIEW--returns the view of an input tensor in the given shape but retains same memory as the input tensor.  \n",
    "- STACKING--combines multiple tensors on top of each other (vstack) or adjacent to each other(hstack)\n",
    "- SQUEEZING--removes all 1 dimensions from a given tensor .\n",
    "- UNSQUEEZING--adds 1 dimensions to a given tensor.\n",
    "- PERMUTE-- returns view of the given tensor with dimensions permuted or swapped."
   ]
  },
  {
   "cell_type": "markdown",
   "metadata": {
    "id": "EUxxxGBr5kw5"
   },
   "source": [
    "#### RESHAPING"
   ]
  },
  {
   "cell_type": "code",
   "execution_count": 17,
   "metadata": {
    "colab": {
     "base_uri": "https://localhost:8080/"
    },
    "id": "lz2WP3TlfCYU",
    "outputId": "aa84fc71-6f45-4d46-fd6f-9afdeef86611"
   },
   "outputs": [
    {
     "data": {
      "text/plain": [
       "(tensor([ 1,  2,  3,  4,  5,  6,  7,  8,  9, 10, 11, 12]), torch.Size([12]))"
      ]
     },
     "execution_count": 17,
     "metadata": {},
     "output_type": "execute_result"
    }
   ],
   "source": [
    "#creating a tensor\n",
    "tensor_xyz=torch.arange(1,13)\n",
    "tensor_xyz,tensor_xyz.shape"
   ]
  },
  {
   "cell_type": "code",
   "execution_count": 18,
   "metadata": {
    "colab": {
     "base_uri": "https://localhost:8080/"
    },
    "id": "aVy6i6pRnYxL",
    "outputId": "692a507e-74d8-4958-c2af-a50446812250"
   },
   "outputs": [
    {
     "data": {
      "text/plain": [
       "tensor([[ 1,  2,  3,  4,  5,  6],\n",
       "        [ 7,  8,  9, 10, 11, 12]])"
      ]
     },
     "execution_count": 18,
     "metadata": {},
     "output_type": "execute_result"
    }
   ],
   "source": [
    "##reshaping the tensor----for reshaping the previous and new shape should be compatible\n",
    "tensor_xyz.reshape(2,6)"
   ]
  },
  {
   "cell_type": "code",
   "execution_count": 19,
   "metadata": {
    "colab": {
     "base_uri": "https://localhost:8080/",
     "height": 141
    },
    "id": "T1VfCu8Sno9h",
    "outputId": "ac6e0607-ffcc-4671-f6fa-6ba6e6158117"
   },
   "outputs": [
    {
     "ename": "RuntimeError",
     "evalue": "shape '[2, 8]' is invalid for input of size 12",
     "output_type": "error",
     "traceback": [
      "\u001b[0;31m---------------------------------------------------------------------------\u001b[0m",
      "\u001b[0;31mRuntimeError\u001b[0m                              Traceback (most recent call last)",
      "\u001b[0;32m<ipython-input-19-d9bd273ee877>\u001b[0m in \u001b[0;36m<cell line: 1>\u001b[0;34m()\u001b[0m\n\u001b[0;32m----> 1\u001b[0;31m \u001b[0mtensor_xyz\u001b[0m\u001b[0;34m.\u001b[0m\u001b[0mreshape\u001b[0m\u001b[0;34m(\u001b[0m\u001b[0;36m2\u001b[0m\u001b[0;34m,\u001b[0m\u001b[0;36m8\u001b[0m\u001b[0;34m)\u001b[0m\u001b[0;34m\u001b[0m\u001b[0;34m\u001b[0m\u001b[0m\n\u001b[0m",
      "\u001b[0;31mRuntimeError\u001b[0m: shape '[2, 8]' is invalid for input of size 12"
     ]
    }
   ],
   "source": [
    "tensor_xyz.reshape(2,8)#---this is not compatible"
   ]
  },
  {
   "cell_type": "code",
   "execution_count": 21,
   "metadata": {
    "colab": {
     "base_uri": "https://localhost:8080/"
    },
    "id": "PNM8fdq3ntqb",
    "outputId": "8f65fd1b-af02-4552-8ab3-75b01aaf8355"
   },
   "outputs": [
    {
     "data": {
      "text/plain": [
       "tensor([[ 1,  2,  3],\n",
       "        [ 4,  5,  6],\n",
       "        [ 7,  8,  9],\n",
       "        [10, 11, 12]])"
      ]
     },
     "execution_count": 21,
     "metadata": {},
     "output_type": "execute_result"
    }
   ],
   "source": [
    "tensor_xyz.reshape(4,3)"
   ]
  },
  {
   "cell_type": "code",
   "execution_count": 22,
   "metadata": {
    "colab": {
     "base_uri": "https://localhost:8080/"
    },
    "id": "t_Q2lMyUnzmY",
    "outputId": "d98d8536-e02f-4b1d-bd47-2288d81970e1"
   },
   "outputs": [
    {
     "data": {
      "text/plain": [
       "tensor([[ 1],\n",
       "        [ 2],\n",
       "        [ 3],\n",
       "        [ 4],\n",
       "        [ 5],\n",
       "        [ 6],\n",
       "        [ 7],\n",
       "        [ 8],\n",
       "        [ 9],\n",
       "        [10],\n",
       "        [11],\n",
       "        [12]])"
      ]
     },
     "execution_count": 22,
     "metadata": {},
     "output_type": "execute_result"
    }
   ],
   "source": [
    "tensor_xyz.reshape(12,1)"
   ]
  },
  {
   "cell_type": "code",
   "execution_count": 23,
   "metadata": {
    "colab": {
     "base_uri": "https://localhost:8080/"
    },
    "id": "gPh7qLNLoED0",
    "outputId": "ccffbd6e-298b-45af-ea60-a38f75d8e690"
   },
   "outputs": [
    {
     "data": {
      "text/plain": [
       "tensor([[ 1,  2,  3,  4,  5,  6,  7,  8,  9, 10, 11, 12]])"
      ]
     },
     "execution_count": 23,
     "metadata": {},
     "output_type": "execute_result"
    }
   ],
   "source": [
    "tensor_xyz.reshape(1,12)"
   ]
  },
  {
   "cell_type": "markdown",
   "metadata": {
    "id": "2ccy8NO05qld"
   },
   "source": [
    "#### VIEW"
   ]
  },
  {
   "cell_type": "code",
   "execution_count": 25,
   "metadata": {
    "colab": {
     "base_uri": "https://localhost:8080/"
    },
    "id": "w6657d3_oIiE",
    "outputId": "d38c1ea6-d99a-4c82-8529-9c4b33d795a2"
   },
   "outputs": [
    {
     "data": {
      "text/plain": [
       "tensor([[ 1,  2,  3,  4],\n",
       "        [ 5,  6,  7,  8],\n",
       "        [ 9, 10, 11, 12]])"
      ]
     },
     "execution_count": 25,
     "metadata": {},
     "output_type": "execute_result"
    }
   ],
   "source": [
    "#view\n",
    "view_tensor=tensor_xyz.view(3,4)\n",
    "view_tensor#this view tensor is just a different view of tensor_xyz if we change anything in tensor_xyz it is reflected in view"
   ]
  },
  {
   "cell_type": "code",
   "execution_count": 29,
   "metadata": {
    "colab": {
     "base_uri": "https://localhost:8080/"
    },
    "id": "vnHjxgkuocX-",
    "outputId": "7fd4ace3-e960-4a80-899c-a7c1870ee190"
   },
   "outputs": [
    {
     "data": {
      "text/plain": [
       "tensor([ 1,  2,  3,  4,  5,  6,  7,  8,  9, 10, 11, 12])"
      ]
     },
     "execution_count": 29,
     "metadata": {},
     "output_type": "execute_result"
    }
   ],
   "source": [
    "tensor_xyz"
   ]
  },
  {
   "cell_type": "code",
   "execution_count": 32,
   "metadata": {
    "colab": {
     "base_uri": "https://localhost:8080/"
    },
    "id": "Z_MtqWTCpI9b",
    "outputId": "b2180fc1-ea06-4ab7-ca1c-97884c87f7f0"
   },
   "outputs": [
    {
     "data": {
      "text/plain": [
       "tensor([3])"
      ]
     },
     "execution_count": 32,
     "metadata": {},
     "output_type": "execute_result"
    }
   ],
   "source": [
    "tensor_xyz[2:3]"
   ]
  },
  {
   "cell_type": "code",
   "execution_count": 33,
   "metadata": {
    "colab": {
     "base_uri": "https://localhost:8080/"
    },
    "id": "Kyqut0xTpkBE",
    "outputId": "d0db4290-1575-4050-ebcc-14af58185270"
   },
   "outputs": [
    {
     "data": {
      "text/plain": [
       "(tensor([  1,   2, 100,   4,   5,   6,   7,   8,   9,  10,  11,  12]),\n",
       " tensor([[  1,   2, 100,   4],\n",
       "         [  5,   6,   7,   8],\n",
       "         [  9,  10,  11,  12]]))"
      ]
     },
     "execution_count": 33,
     "metadata": {},
     "output_type": "execute_result"
    }
   ],
   "source": [
    "tensor_xyz[2:3]=100\n",
    "tensor_xyz,view_tensor"
   ]
  },
  {
   "cell_type": "markdown",
   "metadata": {
    "id": "Gdwd5ms55vN2"
   },
   "source": [
    "####  STACKING"
   ]
  },
  {
   "cell_type": "code",
   "execution_count": 34,
   "metadata": {
    "colab": {
     "base_uri": "https://localhost:8080/"
    },
    "id": "o69YB2lSp3A2",
    "outputId": "59f3cb0b-12bd-4265-b2af-84dbfdcca334"
   },
   "outputs": [
    {
     "data": {
      "text/plain": [
       "tensor([[  1,   2, 100,   4,   5,   6,   7,   8,   9,  10,  11,  12],\n",
       "        [  1,   2, 100,   4,   5,   6,   7,   8,   9,  10,  11,  12]])"
      ]
     },
     "execution_count": 34,
     "metadata": {},
     "output_type": "execute_result"
    }
   ],
   "source": [
    "### stacking a tensor\n",
    "torch.stack([tensor_xyz,tensor_xyz])"
   ]
  },
  {
   "cell_type": "code",
   "execution_count": 37,
   "metadata": {
    "colab": {
     "base_uri": "https://localhost:8080/"
    },
    "id": "4t1HV8GdqPt0",
    "outputId": "5046632b-b753-4877-8307-ad68a5e0efe6"
   },
   "outputs": [
    {
     "data": {
      "text/plain": [
       "tensor([[  1,   2, 100,   4,   5,   6,   7,   8,   9,  10,  11,  12],\n",
       "        [  1,   2, 100,   4,   5,   6,   7,   8,   9,  10,  11,  12]])"
      ]
     },
     "execution_count": 37,
     "metadata": {},
     "output_type": "execute_result"
    }
   ],
   "source": [
    "#vertically stacking------with torch.stack and dim=0\n",
    "torch.stack([tensor_xyz,tensor_xyz],dim=0)"
   ]
  },
  {
   "cell_type": "code",
   "execution_count": 38,
   "metadata": {
    "colab": {
     "base_uri": "https://localhost:8080/"
    },
    "id": "5slNELDLqajz",
    "outputId": "a19402f0-045a-4b35-95bb-bd6cc7534f53"
   },
   "outputs": [
    {
     "data": {
      "text/plain": [
       "tensor([[  1,   2, 100,   4,   5,   6,   7,   8,   9,  10,  11,  12],\n",
       "        [  1,   2, 100,   4,   5,   6,   7,   8,   9,  10,  11,  12]])"
      ]
     },
     "execution_count": 38,
     "metadata": {},
     "output_type": "execute_result"
    }
   ],
   "source": [
    "#vertically stacking------with torch.vstack\n",
    "torch.vstack([tensor_xyz,tensor_xyz])"
   ]
  },
  {
   "cell_type": "code",
   "execution_count": 39,
   "metadata": {
    "colab": {
     "base_uri": "https://localhost:8080/"
    },
    "id": "0pvoNLxQqfXi",
    "outputId": "9bffe8c8-2cc4-4efd-8bdf-20ce7316bcc6"
   },
   "outputs": [
    {
     "data": {
      "text/plain": [
       "tensor([[  1,   1],\n",
       "        [  2,   2],\n",
       "        [100, 100],\n",
       "        [  4,   4],\n",
       "        [  5,   5],\n",
       "        [  6,   6],\n",
       "        [  7,   7],\n",
       "        [  8,   8],\n",
       "        [  9,   9],\n",
       "        [ 10,  10],\n",
       "        [ 11,  11],\n",
       "        [ 12,  12]])"
      ]
     },
     "execution_count": 39,
     "metadata": {},
     "output_type": "execute_result"
    }
   ],
   "source": [
    "#horizontally stacking ---with torch.stack and dim=1\n",
    "torch.stack([tensor_xyz,tensor_xyz],dim=1)"
   ]
  },
  {
   "cell_type": "code",
   "execution_count": 41,
   "metadata": {
    "colab": {
     "base_uri": "https://localhost:8080/"
    },
    "id": "mpRyNDG7rBGV",
    "outputId": "7bf5f807-9e86-41a2-bde7-d0c1a31a6059"
   },
   "outputs": [
    {
     "data": {
      "text/plain": [
       "tensor([  1,   2, 100,   4,   5,   6,   7,   8,   9,  10,  11,  12,   1,   2,\n",
       "        100,   4,   5,   6,   7,   8,   9,  10,  11,  12])"
      ]
     },
     "execution_count": 41,
     "metadata": {},
     "output_type": "execute_result"
    }
   ],
   "source": [
    "#horizontally stacking ---with torch.hstack\n",
    "torch.hstack([tensor_xyz,tensor_xyz])"
   ]
  },
  {
   "cell_type": "code",
   "execution_count": 45,
   "metadata": {
    "colab": {
     "base_uri": "https://localhost:8080/"
    },
    "id": "fgFTsI2BrO5a",
    "outputId": "e6df2e5a-58d5-4a80-d756-b11e99757801"
   },
   "outputs": [
    {
     "data": {
      "text/plain": [
       "tensor([[1, 2, 3, 4],\n",
       "        [6, 7, 8, 9]])"
      ]
     },
     "execution_count": 45,
     "metadata": {},
     "output_type": "execute_result"
    }
   ],
   "source": [
    "new_tensor=torch.tensor([[1,2,3,4],[6,7,8,9]])\n",
    "new_tensor"
   ]
  },
  {
   "cell_type": "code",
   "execution_count": 46,
   "metadata": {
    "colab": {
     "base_uri": "https://localhost:8080/"
    },
    "id": "G0Wl-faRtzfJ",
    "outputId": "8fa48a80-52b2-43f9-976b-939bc8e7c56c"
   },
   "outputs": [
    {
     "data": {
      "text/plain": [
       "tensor([[1, 2, 3, 4, 1, 2, 3, 4],\n",
       "        [6, 7, 8, 9, 6, 7, 8, 9]])"
      ]
     },
     "execution_count": 46,
     "metadata": {},
     "output_type": "execute_result"
    }
   ],
   "source": [
    "torch.hstack([new_tensor,new_tensor])"
   ]
  },
  {
   "cell_type": "markdown",
   "metadata": {
    "id": "lTJJ9886520w"
   },
   "source": [
    "#### SQUEEZING"
   ]
  },
  {
   "cell_type": "code",
   "execution_count": 49,
   "metadata": {
    "colab": {
     "base_uri": "https://localhost:8080/"
    },
    "id": "oq9bR2KAt9iq",
    "outputId": "7c2dd2b1-cbef-46bf-e1eb-f1c58308fa9c"
   },
   "outputs": [
    {
     "data": {
      "text/plain": [
       "tensor([  1,   2, 100,   4,   5,   6,   7,   8,   9,  10,  11,  12])"
      ]
     },
     "execution_count": 49,
     "metadata": {},
     "output_type": "execute_result"
    }
   ],
   "source": [
    "### squeezing the tensor ----------#torch.squeeze()\n",
    "tensor_xyz"
   ]
  },
  {
   "cell_type": "code",
   "execution_count": 48,
   "metadata": {
    "colab": {
     "base_uri": "https://localhost:8080/"
    },
    "id": "F8fxiXIIufnN",
    "outputId": "acbbe83f-c4e0-44fd-8589-3634f1fac1b6"
   },
   "outputs": [
    {
     "data": {
      "text/plain": [
       "tensor([  1,   2, 100,   4,   5,   6,   7,   8,   9,  10,  11,  12])"
      ]
     },
     "execution_count": 48,
     "metadata": {},
     "output_type": "execute_result"
    }
   ],
   "source": [
    "torch.squeeze(tensor_xyz)"
   ]
  },
  {
   "cell_type": "code",
   "execution_count": 52,
   "metadata": {
    "colab": {
     "base_uri": "https://localhost:8080/"
    },
    "id": "rUTepqYXumVQ",
    "outputId": "0d2b68cd-67ff-48d8-aa3d-7c571d770c33"
   },
   "outputs": [
    {
     "data": {
      "text/plain": [
       "tensor([[[  1,   2, 100,   4],\n",
       "         [  5,   6,   7,   8],\n",
       "         [  9,  10,  11,  12]]])"
      ]
     },
     "execution_count": 52,
     "metadata": {},
     "output_type": "execute_result"
    }
   ],
   "source": [
    "tensor_xyz.reshape(1,3,4)"
   ]
  },
  {
   "cell_type": "code",
   "execution_count": 53,
   "metadata": {
    "colab": {
     "base_uri": "https://localhost:8080/"
    },
    "id": "x624H1RIuxLp",
    "outputId": "a257b29f-90e9-40d2-84ca-31632d0ea067"
   },
   "outputs": [
    {
     "data": {
      "text/plain": [
       "tensor([[  1,   2, 100,   4],\n",
       "        [  5,   6,   7,   8],\n",
       "        [  9,  10,  11,  12]])"
      ]
     },
     "execution_count": 53,
     "metadata": {},
     "output_type": "execute_result"
    }
   ],
   "source": [
    "torch.squeeze(tensor_xyz.reshape(1,3,4)) #---here we can see that one dimension is removed"
   ]
  },
  {
   "cell_type": "code",
   "execution_count": 54,
   "metadata": {
    "colab": {
     "base_uri": "https://localhost:8080/"
    },
    "id": "LBjvH5GPu2sp",
    "outputId": "46439391-b0d1-477d-a5a0-c1fe4adcbc83"
   },
   "outputs": [
    {
     "data": {
      "text/plain": [
       "tensor([[[[  1,   2, 100,   4,   5,   6]],\n",
       "\n",
       "         [[  7,   8,   9,  10,  11,  12]]]])"
      ]
     },
     "execution_count": 54,
     "metadata": {},
     "output_type": "execute_result"
    }
   ],
   "source": [
    "tensor_xyz.reshape(1,2,1,6)"
   ]
  },
  {
   "cell_type": "code",
   "execution_count": 55,
   "metadata": {
    "colab": {
     "base_uri": "https://localhost:8080/"
    },
    "id": "Hisu8GZsvKwe",
    "outputId": "94558732-1063-4d53-e7aa-5b9e1341a119"
   },
   "outputs": [
    {
     "data": {
      "text/plain": [
       "tensor([[  1,   2, 100,   4,   5,   6],\n",
       "        [  7,   8,   9,  10,  11,  12]])"
      ]
     },
     "execution_count": 55,
     "metadata": {},
     "output_type": "execute_result"
    }
   ],
   "source": [
    "torch.squeeze(tensor_xyz.reshape(1,2,1,6)) ## we can see that all the single dimensions are removed"
   ]
  },
  {
   "cell_type": "markdown",
   "metadata": {
    "id": "qIXvH4Oi58Yz"
   },
   "source": [
    "#### UNSQUEEZING"
   ]
  },
  {
   "cell_type": "code",
   "execution_count": 59,
   "metadata": {
    "colab": {
     "base_uri": "https://localhost:8080/"
    },
    "id": "8QmUFchUvSQc",
    "outputId": "35448a08-89ac-4a6a-bd14-92460b6af24d"
   },
   "outputs": [
    {
     "data": {
      "text/plain": [
       "(torch.Size([12]),\n",
       " tensor([[  1,   2, 100,   4,   5,   6,   7,   8,   9,  10,  11,  12]]),\n",
       " torch.Size([1, 12]))"
      ]
     },
     "execution_count": 59,
     "metadata": {},
     "output_type": "execute_result"
    }
   ],
   "source": [
    "#torch.unsqueeze()#it adds a single dimension in the given axis\n",
    "tensor_xyz.shape,torch.unsqueeze(tensor_xyz,dim=0),torch.unsqueeze(tensor_xyz,dim=0) .shape"
   ]
  },
  {
   "cell_type": "code",
   "execution_count": 65,
   "metadata": {
    "colab": {
     "base_uri": "https://localhost:8080/"
    },
    "id": "hOiyQp59001f",
    "outputId": "c26575e9-8dc5-4dd0-ba8d-0f679674d795"
   },
   "outputs": [
    {
     "data": {
      "text/plain": [
       "(torch.Size([12]),\n",
       " tensor([[  1],\n",
       "         [  2],\n",
       "         [100],\n",
       "         [  4],\n",
       "         [  5],\n",
       "         [  6],\n",
       "         [  7],\n",
       "         [  8],\n",
       "         [  9],\n",
       "         [ 10],\n",
       "         [ 11],\n",
       "         [ 12]]),\n",
       " torch.Size([12, 1]))"
      ]
     },
     "execution_count": 65,
     "metadata": {},
     "output_type": "execute_result"
    }
   ],
   "source": [
    "#torch.unsqueeze()#it adds a single dimension in the given dim=1\n",
    "tensor_xyz.shape,torch.unsqueeze(tensor_xyz,dim=1),torch.unsqueeze(tensor_xyz,dim=1) .shape"
   ]
  },
  {
   "cell_type": "code",
   "execution_count": 60,
   "metadata": {
    "colab": {
     "base_uri": "https://localhost:8080/"
    },
    "id": "rQWYZRrpy9OO",
    "outputId": "e26310dc-194e-4e79-f3b6-9e60ea1271e8"
   },
   "outputs": [
    {
     "data": {
      "text/plain": [
       "tensor([[[[  1,   2, 100,   4,   5,   6]],\n",
       "\n",
       "         [[  7,   8,   9,  10,  11,  12]]]])"
      ]
     },
     "execution_count": 60,
     "metadata": {},
     "output_type": "execute_result"
    }
   ],
   "source": [
    "tensor_xyz.reshape(1,2,1,6)"
   ]
  },
  {
   "cell_type": "code",
   "execution_count": 61,
   "metadata": {
    "colab": {
     "base_uri": "https://localhost:8080/"
    },
    "id": "85rHGDF7v28l",
    "outputId": "639e9369-b6dc-4004-c4f1-3290e714aca2"
   },
   "outputs": [
    {
     "data": {
      "text/plain": [
       "tensor([[  1,   2, 100,   4,   5,   6],\n",
       "        [  7,   8,   9,  10,  11,  12]])"
      ]
     },
     "execution_count": 61,
     "metadata": {},
     "output_type": "execute_result"
    }
   ],
   "source": [
    "#creating the squeezed tensor\n",
    "sqz_tensor=torch.squeeze(tensor_xyz.reshape(1,2,1,6))\n",
    "sqz_tensor"
   ]
  },
  {
   "cell_type": "code",
   "execution_count": 66,
   "metadata": {
    "colab": {
     "base_uri": "https://localhost:8080/"
    },
    "id": "leVfkqkbzEJK",
    "outputId": "6c9ad387-1fcf-42a4-ba06-10e2608fe893"
   },
   "outputs": [
    {
     "data": {
      "text/plain": [
       "(tensor([[[  1,   2, 100,   4,   5,   6],\n",
       "          [  7,   8,   9,  10,  11,  12]]]),\n",
       " torch.Size([1, 2, 6]))"
      ]
     },
     "execution_count": 66,
     "metadata": {},
     "output_type": "execute_result"
    }
   ],
   "source": [
    "#unsqueezing the tensor in dim=0\n",
    "torch.unsqueeze(sqz_tensor,dim=0),torch.unsqueeze(sqz_tensor,dim=0).shape  ##it added a single dimension in axis dim=0"
   ]
  },
  {
   "cell_type": "code",
   "execution_count": 67,
   "metadata": {
    "colab": {
     "base_uri": "https://localhost:8080/"
    },
    "id": "0sHqH41RzPmS",
    "outputId": "cf1c39f1-f5a4-46ac-e427-4a9307a5030f"
   },
   "outputs": [
    {
     "data": {
      "text/plain": [
       "(tensor([[[  1,   2, 100,   4,   5,   6]],\n",
       " \n",
       "         [[  7,   8,   9,  10,  11,  12]]]),\n",
       " torch.Size([2, 1, 6]))"
      ]
     },
     "execution_count": 67,
     "metadata": {},
     "output_type": "execute_result"
    }
   ],
   "source": [
    "#unsqueezing the tensor in dim=1\n",
    "torch.unsqueeze(sqz_tensor,dim=1),torch.unsqueeze(sqz_tensor,dim=1).shape #it added one dimension in the axes dim=1"
   ]
  },
  {
   "cell_type": "markdown",
   "metadata": {
    "id": "2df6b5s66Bed"
   },
   "source": [
    "#### PERMUTE"
   ]
  },
  {
   "cell_type": "code",
   "execution_count": 68,
   "metadata": {
    "id": "Ea2haMWZzc9y"
   },
   "outputs": [],
   "source": [
    "#permute returns the view of the original tensor with the dimensions rerarranged in the given manner"
   ]
  },
  {
   "cell_type": "code",
   "execution_count": 69,
   "metadata": {
    "colab": {
     "base_uri": "https://localhost:8080/"
    },
    "id": "xc_mW4pI3CoG",
    "outputId": "8c625035-5feb-4bed-deb4-b42a7e6b368b"
   },
   "outputs": [
    {
     "name": "stdout",
     "output_type": "stream",
     "text": [
      "original tensor shape : torch.Size([220, 300, 3])\n",
      "permuted tensor shape : torch.Size([3, 220, 300])\n"
     ]
    }
   ],
   "source": [
    "#creating the image like tensor a\n",
    "original_tensor=torch.rand(220,300,3)#--(height,width,channel)\n",
    "\n",
    "#permuting the original_tensor\n",
    "permuted_tensor=torch.permute(original_tensor,(2,0,1))#---(channel,height,width)\n",
    "\n",
    "print(\"original tensor shape :\",original_tensor.shape)\n",
    "print('permuted tensor shape :',permuted_tensor.shape)"
   ]
  },
  {
   "cell_type": "code",
   "execution_count": 72,
   "metadata": {
    "colab": {
     "base_uri": "https://localhost:8080/"
    },
    "id": "AthEQ5nS4BQ7",
    "outputId": "dcef0644-a379-481a-a633-7b0f2051ed17"
   },
   "outputs": [
    {
     "data": {
      "text/plain": [
       "(tensor(0.1527), tensor(0.1527))"
      ]
     },
     "execution_count": 72,
     "metadata": {},
     "output_type": "execute_result"
    }
   ],
   "source": [
    "#since permuted gives view then any changes on original tensor will be reflected in permuted tensor\n",
    "original_tensor[0,0,0],permuted_tensor[0,0,0]"
   ]
  },
  {
   "cell_type": "code",
   "execution_count": 73,
   "metadata": {
    "colab": {
     "base_uri": "https://localhost:8080/"
    },
    "id": "kcQgUDzn4nrO",
    "outputId": "c73a57e3-8768-45d9-9286-c610072968d4"
   },
   "outputs": [
    {
     "data": {
      "text/plain": [
       "(tensor(12345.), tensor(12345.))"
      ]
     },
     "execution_count": 73,
     "metadata": {},
     "output_type": "execute_result"
    }
   ],
   "source": [
    "#changing the value in original and checking with permuted\n",
    "original_tensor[0,0,0]=12345\n",
    "original_tensor[0,0,0],permuted_tensor[0,0,0]"
   ]
  },
  {
   "cell_type": "code",
   "execution_count": null,
   "metadata": {
    "id": "jFPcd5oI5T3O"
   },
   "outputs": [],
   "source": []
  }
 ],
 "metadata": {
  "colab": {
   "provenance": []
  },
  "kernelspec": {
   "display_name": "Python 3 (ipykernel)",
   "language": "python",
   "name": "python3"
  },
  "language_info": {
   "codemirror_mode": {
    "name": "ipython",
    "version": 3
   },
   "file_extension": ".py",
   "mimetype": "text/x-python",
   "name": "python",
   "nbconvert_exporter": "python",
   "pygments_lexer": "ipython3",
   "version": "3.11.5"
  }
 },
 "nbformat": 4,
 "nbformat_minor": 1
}
