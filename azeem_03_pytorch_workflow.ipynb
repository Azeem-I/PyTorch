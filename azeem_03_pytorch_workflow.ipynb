{
  "nbformat": 4,
  "nbformat_minor": 0,
  "metadata": {
    "colab": {
      "provenance": []
    },
    "kernelspec": {
      "name": "python3",
      "display_name": "Python 3"
    },
    "language_info": {
      "name": "python"
    }
  },
  "cells": [
    {
      "cell_type": "code",
      "execution_count": 2,
      "metadata": {
        "id": "p5pBpeIuhO07"
      },
      "outputs": [],
      "source": [
        "import torch\n",
        "from torch import nn\n",
        "##nn contains all the bulding blocks required to build a neural network\n",
        "import matplotlib.pyplot as plt"
      ]
    },
    {
      "cell_type": "markdown",
      "source": [
        "##### TYPES OF DATA THAT WE ENCOUNTER\n",
        "\n",
        "- excel data or tabular data\n",
        "- Image data\n",
        "- video data\n",
        "- Text data  \n",
        "- Audio data\n",
        "- DNA data\n",
        "\n",
        "\n",
        "##### MACHINE LEARNING CONSISTS OF TWO PARTS  \n",
        "\n",
        "- modify the data to numerical representation as machine learning models can work only on numbers.\n",
        "- create the model to find the patterns that gives representation of the data  \n",
        "\n",
        "\n",
        "##### we will use linear equation of  line  to create data and find patterns\n",
        "\n",
        "` Y = mX + C `"
      ],
      "metadata": {
        "id": "IWHd05TorBrT"
      }
    },
    {
      "cell_type": "code",
      "source": [
        "### creating known parameters\n",
        "weight=0.6\n",
        "bias =0.09\n",
        "\n",
        "### creating the data\n",
        "start=0\n",
        "end=1\n",
        "step=0.02\n",
        "\n",
        "x=torch.arange(start,end,step).unsqueeze(dim=1)\n",
        "y= (weight*x)+bias\n",
        "\n",
        "x,y"
      ],
      "metadata": {
        "id": "-cO7HzTiqmJe",
        "colab": {
          "base_uri": "https://localhost:8080/"
        },
        "outputId": "3021a258-2945-42f2-f673-c938cfc2da18"
      },
      "execution_count": 3,
      "outputs": [
        {
          "output_type": "execute_result",
          "data": {
            "text/plain": [
              "(tensor([[0.0000],\n",
              "         [0.0200],\n",
              "         [0.0400],\n",
              "         [0.0600],\n",
              "         [0.0800],\n",
              "         [0.1000],\n",
              "         [0.1200],\n",
              "         [0.1400],\n",
              "         [0.1600],\n",
              "         [0.1800],\n",
              "         [0.2000],\n",
              "         [0.2200],\n",
              "         [0.2400],\n",
              "         [0.2600],\n",
              "         [0.2800],\n",
              "         [0.3000],\n",
              "         [0.3200],\n",
              "         [0.3400],\n",
              "         [0.3600],\n",
              "         [0.3800],\n",
              "         [0.4000],\n",
              "         [0.4200],\n",
              "         [0.4400],\n",
              "         [0.4600],\n",
              "         [0.4800],\n",
              "         [0.5000],\n",
              "         [0.5200],\n",
              "         [0.5400],\n",
              "         [0.5600],\n",
              "         [0.5800],\n",
              "         [0.6000],\n",
              "         [0.6200],\n",
              "         [0.6400],\n",
              "         [0.6600],\n",
              "         [0.6800],\n",
              "         [0.7000],\n",
              "         [0.7200],\n",
              "         [0.7400],\n",
              "         [0.7600],\n",
              "         [0.7800],\n",
              "         [0.8000],\n",
              "         [0.8200],\n",
              "         [0.8400],\n",
              "         [0.8600],\n",
              "         [0.8800],\n",
              "         [0.9000],\n",
              "         [0.9200],\n",
              "         [0.9400],\n",
              "         [0.9600],\n",
              "         [0.9800]]),\n",
              " tensor([[0.0900],\n",
              "         [0.1020],\n",
              "         [0.1140],\n",
              "         [0.1260],\n",
              "         [0.1380],\n",
              "         [0.1500],\n",
              "         [0.1620],\n",
              "         [0.1740],\n",
              "         [0.1860],\n",
              "         [0.1980],\n",
              "         [0.2100],\n",
              "         [0.2220],\n",
              "         [0.2340],\n",
              "         [0.2460],\n",
              "         [0.2580],\n",
              "         [0.2700],\n",
              "         [0.2820],\n",
              "         [0.2940],\n",
              "         [0.3060],\n",
              "         [0.3180],\n",
              "         [0.3300],\n",
              "         [0.3420],\n",
              "         [0.3540],\n",
              "         [0.3660],\n",
              "         [0.3780],\n",
              "         [0.3900],\n",
              "         [0.4020],\n",
              "         [0.4140],\n",
              "         [0.4260],\n",
              "         [0.4380],\n",
              "         [0.4500],\n",
              "         [0.4620],\n",
              "         [0.4740],\n",
              "         [0.4860],\n",
              "         [0.4980],\n",
              "         [0.5100],\n",
              "         [0.5220],\n",
              "         [0.5340],\n",
              "         [0.5460],\n",
              "         [0.5580],\n",
              "         [0.5700],\n",
              "         [0.5820],\n",
              "         [0.5940],\n",
              "         [0.6060],\n",
              "         [0.6180],\n",
              "         [0.6300],\n",
              "         [0.6420],\n",
              "         [0.6540],\n",
              "         [0.6660],\n",
              "         [0.6780]]))"
            ]
          },
          "metadata": {},
          "execution_count": 3
        }
      ]
    },
    {
      "cell_type": "code",
      "source": [
        "x.shape,y.shape,len(x),len(y)"
      ],
      "metadata": {
        "colab": {
          "base_uri": "https://localhost:8080/"
        },
        "id": "Aa-N2pYRUjO5",
        "outputId": "024eeed8-d4f9-4b87-d9c2-5bf83b9af24a"
      },
      "execution_count": 4,
      "outputs": [
        {
          "output_type": "execute_result",
          "data": {
            "text/plain": [
              "(torch.Size([50, 1]), torch.Size([50, 1]), 50, 50)"
            ]
          },
          "metadata": {},
          "execution_count": 4
        }
      ]
    },
    {
      "cell_type": "code",
      "source": [
        "#splitting the data into train and test 80:20 split\n",
        "train_size=int(0.8*len(x))\n",
        "x_train=x[:train_size]\n",
        "x_test=x[train_size:]\n",
        "x_train.shape,x_test.shape"
      ],
      "metadata": {
        "colab": {
          "base_uri": "https://localhost:8080/"
        },
        "id": "aQQ9cPNpUJBb",
        "outputId": "b1e768ba-aada-49be-865d-90629d546bd6"
      },
      "execution_count": 5,
      "outputs": [
        {
          "output_type": "execute_result",
          "data": {
            "text/plain": [
              "(torch.Size([40, 1]), torch.Size([10, 1]))"
            ]
          },
          "metadata": {},
          "execution_count": 5
        }
      ]
    },
    {
      "cell_type": "code",
      "source": [
        "#similarly spitting y into train and test\n",
        "y_train=y[:train_size]\n",
        "y_test=y[train_size:]\n",
        "y_train.shape,y_test.shape"
      ],
      "metadata": {
        "colab": {
          "base_uri": "https://localhost:8080/"
        },
        "id": "2jjsmW5HU24S",
        "outputId": "0a50d2ba-5a1a-4b0d-e23b-d31be6f16513"
      },
      "execution_count": 6,
      "outputs": [
        {
          "output_type": "execute_result",
          "data": {
            "text/plain": [
              "(torch.Size([40, 1]), torch.Size([10, 1]))"
            ]
          },
          "metadata": {},
          "execution_count": 6
        }
      ]
    },
    {
      "cell_type": "code",
      "source": [
        "## creating a function to plot training data,testing data and predictions\n",
        "\n",
        "def plot_data(train_data=x_train,train_labels=y_train,test_data=x_test,test_labels=y_test,predictions=None):\n",
        "  \"\"\"plots training data,test,data and compares predicions\"\"\"\n",
        "  plt.figure(figsize=(10,7))\n",
        "\n",
        "\n",
        "  #plotting train_data\n",
        "  plt.scatter(train_data,train_labels,s=10,c=\"b\",label=\"training_data\")\n",
        "\n",
        "  #plotting test data\n",
        "  plt.scatter(test_data,test_labels,s=10,c=\"g\",label=\"test_data\")\n",
        "\n",
        "  #plotting predictions\n",
        "  if predictions is not None:\n",
        "    plt.scatter(test_data,predictions,s=10,c=\"r\",label=\"predictions\")\n",
        "\n",
        "  #show the legend\n",
        "  plt.legend(prop={\"size\":14})\n",
        "\n"
      ],
      "metadata": {
        "id": "-RniedaHWAHn"
      },
      "execution_count": 7,
      "outputs": []
    },
    {
      "cell_type": "code",
      "source": [
        "plot_data()"
      ],
      "metadata": {
        "colab": {
          "base_uri": "https://localhost:8080/",
          "height": 599
        },
        "id": "Wklbs9nxkeg0",
        "outputId": "70bad735-cc9a-42df-fb06-1a5ff7c52978"
      },
      "execution_count": 8,
      "outputs": [
        {
          "output_type": "display_data",
          "data": {
            "text/plain": [
              "<Figure size 1000x700 with 1 Axes>"
            ],
            "image/png": "[encoded data removed]"
          },
          "metadata": {}
        }
      ]
    },
    {
      "cell_type": "markdown",
      "source": [
        "### PyTorch model building essentials\n",
        "PyTorch has four (give or take) essential modules you can use to create almost any kind of neural network you can imagine.\n",
        "\n",
        "They are torch.nn, torch.optim, torch.utils.data.Dataset and torch.utils.data.DataLoader.\n",
        "\n",
        "PyTorch module\tWhat does it do?\n",
        "- torch.nn-\tContains all of the building blocks for computational graphs (essentially a series of computations executed in a particular way).\n",
        "torch.nn.Parameter\tStores tensors that can be used with nn.Module. If requires_grad=True gradients (used for updating model parameters via gradient descent) are calculated automatically, this is often referred to as \"autograd\".\n",
        "torch.nn.Module\tThe base class for all neural network modules, all the building blocks for neural networks are subclasses. If you're building a neural network in PyTorch, your models should subclass nn.Module. Requires a forward() method be implemented.\n",
        "\n",
        "- torch.optim\tContains various optimization algorithms (these tell the model parameters stored in nn.Parameter how to best change to improve gradient descent and in turn reduce the loss).\n",
        "\n",
        "- def forward()\tAll nn.Module subclasses require a forward() method, this defines the computation that will take place on the data passed to the particular nn.Module (e.g. the linear regression formula above).Whenever we create subclass of nn module we have to override forward() function.\n",
        "\n",
        "\n",
        "- nn.Module contains the larger building blocks (layers)\n",
        "nn.Parameter contains the smaller parameters like weights and biases (put these together to make nn.Module(s))\n",
        "- forward() tells the larger blocks how to make calculations on inputs (tensors full of data) within nn.Module(s)\n",
        "- torch.optim contains optimization methods on how to improve the parameters within nn.Parameter to better represent input data"
      ],
      "metadata": {
        "id": "UYAwmNox3nh7"
      }
    },
    {
      "cell_type": "markdown",
      "source": [
        "### Build model\n",
        "Now we've got some data, let's build a model to use the blue dots to predict the green dots.\n",
        "\n",
        "\n",
        "Let's replicate a standard linear regression model using pure PyTorch."
      ],
      "metadata": {
        "id": "O5h3bfxy4syD"
      }
    },
    {
      "cell_type": "code",
      "source": [
        "#create a linear regression model class\n",
        "class LinearRegressionModel(nn.Module):\n",
        "   # <- almost everything in PyTorch is a nn.Module\n",
        "  def __init__(self):\n",
        "    super().__init__()\n",
        "    self.weight=nn.Parameter(torch.rand(1,dtype=torch.float),requires_grad=True) # <- start with random weights (this will get adjusted as the model learns)\n",
        "    # <- PyTorch loves float32 by default\n",
        "    # <- can we update this value with gradient descent?)\n",
        "    self.bias=nn.Parameter(torch.rand(1,dtype=torch.float),requires_grad=True) # <- start with random bias (this will get adjusted as the model learns)\n",
        "    # <- PyTorch loves float32 by default\n",
        "    # <- can we update this value with gradient descent?)\n",
        "    ##REQUIRES GRAD IS TRUE BY DEFAULT\n",
        "\n",
        "  #forward function should be overwritten,it is used for forward computations\n",
        "  ## xi is the input data that is training testing features\n",
        "  def forward(self,x:torch.tensor):\n",
        "    return self.weight*x + self.bias ###this linear regression formula\n",
        "\n"
      ],
      "metadata": {
        "id": "CqHjUz5skkOc"
      },
      "execution_count": 9,
      "outputs": []
    },
    {
      "cell_type": "markdown",
      "source": [
        "learn more about OOPs https://realpython.com/python3-object-oriented-programming/"
      ],
      "metadata": {
        "id": "DwOhtMis7tya"
      }
    },
    {
      "cell_type": "markdown",
      "source": [
        "### Checking the contents of PyTorch Model\n",
        "\n",
        "- with the help of model.parameter()\n",
        "- with the help of model.state_dict()"
      ],
      "metadata": {
        "id": "kzxJE5bh78Qr"
      }
    },
    {
      "cell_type": "code",
      "source": [
        "# Set manual seed since nn.Parameter are randomly initialzied\n",
        "torch.manual_seed(42)\n",
        "\n",
        "# Create an instance of the model (this is a subclass of nn.Module that contains nn.Parameter(s))\n",
        "model_0 = LinearRegressionModel()\n",
        "\n",
        "# Check the nn.Parameter(s) within the nn.Module subclass we created\n",
        "list(model_0.parameters())"
      ],
      "metadata": {
        "colab": {
          "base_uri": "https://localhost:8080/"
        },
        "id": "Zi8QzBUj7y5S",
        "outputId": "9b64607e-7818-4cc2-fcc8-2b38093114ad"
      },
      "execution_count": 10,
      "outputs": [
        {
          "output_type": "execute_result",
          "data": {
            "text/plain": [
              "[Parameter containing:\n",
              " tensor([0.8823], requires_grad=True),\n",
              " Parameter containing:\n",
              " tensor([0.9150], requires_grad=True)]"
            ]
          },
          "metadata": {},
          "execution_count": 10
        }
      ]
    },
    {
      "cell_type": "code",
      "source": [
        "#with the help of model.state_dict()\n",
        "model_0.state_dict()"
      ],
      "metadata": {
        "colab": {
          "base_uri": "https://localhost:8080/"
        },
        "id": "iPNSC_iX8M8f",
        "outputId": "57b56ad1-c1da-40b4-aea6-495e849010a5"
      },
      "execution_count": 11,
      "outputs": [
        {
          "output_type": "execute_result",
          "data": {
            "text/plain": [
              "OrderedDict([('weight', tensor([0.8823])), ('bias', tensor([0.9150]))])"
            ]
          },
          "metadata": {},
          "execution_count": 11
        }
      ]
    },
    {
      "cell_type": "code",
      "source": [],
      "metadata": {
        "id": "YRxenoeZ8tSh"
      },
      "execution_count": 11,
      "outputs": []
    },
    {
      "cell_type": "markdown",
      "source": [
        "### Making predictions using torch.inference_mode()\n",
        "\n",
        "To check this we can pass it the test data X_test to see how closely it predicts y_test.\n",
        "\n",
        "When we pass data to our model, it'll go through the model's forward() method and produce a result using the computation we've defined.\n",
        "\n",
        "\n",
        "As the name suggests, torch.inference_mode() is used when using a model for inference (making predictions).\n",
        "\n",
        "torch.inference_mode() turns off a bunch of things (like gradient tracking, which is necessary for training but not for inference) to make forward-passes (data going through the forward() method) faster.\n",
        "\n",
        "Note: In older PyTorch code, you may also see torch.no_grad() being used for inference. While torch.inference_mode() and torch.no_grad() do similar things, torch.inference_mode() is newer, potentially faster and preferred."
      ],
      "metadata": {
        "id": "QZQI3cDL89cJ"
      }
    },
    {
      "cell_type": "code",
      "source": [
        "#making predictions with torch.inference_mode\n",
        "with torch.inference_mode():\n",
        "  pred=model_0(x_test)\n",
        "\n",
        "\n",
        "# Note: in older PyTorch code you might also see torch.no_grad()\n",
        "# with torch.no_grad():\n",
        "#   y_preds = model_0(X_test)\n",
        "\n",
        "pred"
      ],
      "metadata": {
        "colab": {
          "base_uri": "https://localhost:8080/"
        },
        "id": "fDJz0__n9Ooo",
        "outputId": "be40642b-e496-448d-d672-587e2e0ca328"
      },
      "execution_count": 12,
      "outputs": [
        {
          "output_type": "execute_result",
          "data": {
            "text/plain": [
              "tensor([[1.6208],\n",
              "        [1.6385],\n",
              "        [1.6561],\n",
              "        [1.6738],\n",
              "        [1.6914],\n",
              "        [1.7090],\n",
              "        [1.7267],\n",
              "        [1.7443],\n",
              "        [1.7620],\n",
              "        [1.7796]])"
            ]
          },
          "metadata": {},
          "execution_count": 12
        }
      ]
    },
    {
      "cell_type": "code",
      "source": [
        "###original predictions\n",
        "y_test"
      ],
      "metadata": {
        "colab": {
          "base_uri": "https://localhost:8080/"
        },
        "id": "NSb5bMmE9qGT",
        "outputId": "f27d6e9d-e682-49b3-8732-f012809cabaf"
      },
      "execution_count": 13,
      "outputs": [
        {
          "output_type": "execute_result",
          "data": {
            "text/plain": [
              "tensor([[0.5700],\n",
              "        [0.5820],\n",
              "        [0.5940],\n",
              "        [0.6060],\n",
              "        [0.6180],\n",
              "        [0.6300],\n",
              "        [0.6420],\n",
              "        [0.6540],\n",
              "        [0.6660],\n",
              "        [0.6780]])"
            ]
          },
          "metadata": {},
          "execution_count": 13
        }
      ]
    },
    {
      "cell_type": "code",
      "source": [
        "### plotting the prediction and actual values\n",
        "\n",
        "plot_data(predictions=pred)"
      ],
      "metadata": {
        "colab": {
          "base_uri": "https://localhost:8080/",
          "height": 599
        },
        "id": "U6XNxGsW9xKD",
        "outputId": "daaa281f-cf57-429f-ecf1-8f88adc6f1fc"
      },
      "execution_count": 14,
      "outputs": [
        {
          "output_type": "display_data",
          "data": {
            "text/plain": [
              "<Figure size 1000x700 with 1 Axes>"
            ],
            "image/png": "[encoded data removed]"
          },
          "metadata": {}
        }
      ]
    },
    {
      "cell_type": "markdown",
      "source": [
        "Since we have used random weight and bias it is giving very bad prediction,so here we will utilise loss function to calculate loss and compare it with actual predictions to train the model."
      ],
      "metadata": {
        "id": "qZJw-HaukhaU"
      }
    },
    {
      "cell_type": "markdown",
      "source": [
        "### Train model\n",
        "Right now our model is making predictions using random parameters to make calculations, it's basically guessing (randomly).\n",
        "\n",
        "To fix that, we can update its internal parameters (I also refer to parameters as patterns), the weights and bias values we set randomly using nn.Parameter() and torch.randn() to be something that better represents the data.\n",
        "\n",
        "\n",
        "\n",
        "#### Creating a loss function and optimizer in PyTorch\n",
        "For our model to update its parameters on its own, we'll need to add a few more things .\n",
        "\n",
        "And that's a loss function as well as an optimizer.\n",
        "\n",
        "\n",
        "- - Loss function\tMeasures how wrong your models predictions (e.g. y_preds) are compared to the truth labels (e.g. y_test). Lower the better.\tPyTorch has plenty of built-in loss functions in torch.nn.\tMean absolute error (MAE) for regression problems (torch.nn.L1Loss()). Binary cross entropy for binary classification problems (torch.nn.BCELoss()).\n",
        "\n",
        "- Optimizer\tTells your model how to update its internal parameters to best lower the loss.\tYou can find various optimization function implementations in torch.optim.\tStochastic gradient descent (torch.optim.SGD()). Adam optimizer (torch.optim.Adam()).\n",
        "\n",
        "\n",
        "Depending on what kind of problem you're working on will depend on what loss function and what optimizer you use.\n",
        "\n",
        "However, there are some common values, that are known to work well such as the SGD (stochastic gradient descent) or Adam optimizer. And the MAE (mean absolute error) loss function for regression problems (predicting a number) or binary cross entropy loss function for classification problems (predicting one thing or another).\n",
        "\n",
        "For our problem, since we're predicting a number, let's use MAE (which is under torch.nn.L1Loss()) in PyTorch as our loss function.\n",
        "\n",
        "And we'll use SGD, torch.optim.SGD(params, lr) where:\n",
        "\n",
        "params is the target model parameters you'd like to optimize (e.g. the weights and bias values we randomly set before).\n",
        "lr is the learning rate you'd like the optimizer to update the parameters at, higher means the optimizer will try larger updates (these can sometimes be too large and the optimizer will fail to work), lower means the optimizer will try smaller updates (these can sometimes be too small and the optimizer will take too long to find the ideal values). The learning rate is considered a hyperparameter (because it's set by a machine learning engineer). Common starting values for the learning rate are 0.01, 0.001, 0.0001, however, these can also be adjusted over time (this is called learning rate scheduling)."
      ],
      "metadata": {
        "id": "DTwAN7ZYlOVc"
      }
    },
    {
      "cell_type": "code",
      "source": [
        "#create the loss function\n",
        "loss_func=nn.L1Loss()#----same as MAE Loss\n",
        "\n",
        "\n",
        "# create the optimizer\n",
        "optimizer=torch.optim.SGD(params=model_0.parameters(),#parameters of the model to be optimized\n",
        "                          lr=0.01)#--learning rate)\n"
      ],
      "metadata": {
        "id": "oWLo3sjC-AMd"
      },
      "execution_count": 15,
      "outputs": []
    },
    {
      "cell_type": "markdown",
      "source": [
        "### Creating an optimization loop in PyTorch\n",
        "Woohoo! Now we've got a loss function and an optimizer, it's now time to create a training loop (and testing loop).\n",
        "\n",
        "The training loop involves the model going through the training data and learning the relationships between the features and labels."
      ],
      "metadata": {
        "id": "mm-jc36XoJEt"
      }
    },
    {
      "cell_type": "markdown",
      "source": [
        "\n",
        "\n",
        "### PyTorch training loop\n",
        "For the training loop, we'll build the following steps:\n",
        "\n",
        "\n",
        "- 1\t- Forward pass\t: The model goes through all of the training data once, performing its forward() function calculations.\t`model(x_train)`  \n",
        "- 2\t- :Calculate the loss\tThe model's outputs (predictions) are compared to the ground truth and evaluated to see how wrong they are.\t`loss = loss_fn(y_pred, y_train)`  \n",
        "- 3- :\tZero gradients\tThe optimizers gradients are set to zero (they are accumulated by default) so they can be recalculated for the specific training step.\t`optimizer.zero_grad()`  \n",
        "- 4-:\tPerform backpropagation on the loss\tComputes the gradient of the loss with respect for every model parameter to be updated (each parameter with requires_grad=True). This is known as backpropagation, hence \"backwards\".\t`loss.backward()`    \n",
        "- 5- :Update the optimizer (gradient descent)\tUpdate the parameters with requires_grad=True with respect to the loss gradients in order to improve them.\t`optimizer.step()`\n"
      ],
      "metadata": {
        "id": "BDRMKr2AqGQV"
      }
    },
    {
      "cell_type": "markdown",
      "source": [
        "### PyTorch testing loop\n",
        "As for the testing loop (evaluating our model), the typical steps include:\n",
        "\n",
        "Number\tStep name\tWhat does it do?\tCode example\n",
        "- 1- :\tForward pass\tThe model goes through all of the training data once, performing its forward() function calculations.`model(x_test)`\n",
        "- 2- :\tCalculate the loss\tThe model's outputs (predictions) are compared to the ground truth and evaluated to see how wrong they are.\t`loss = loss_fn(y_pred, y_test)`\n",
        "- 3- :\tCalulate evaluation metrics (optional)\tAlongisde the loss value you may want to calculate other evaluation metrics such as accuracy on the test set.  \n",
        "  \n",
        "Notice the testing loop doesn't contain performing backpropagation (loss.backward()) or stepping the optimizer (optimizer.step()), this is because no parameters in the model are being changed during testing, they've already been calculated. For testing, we're only interested in the output of the forward pass through the model."
      ],
      "metadata": {
        "id": "1YNbaqXqrGzd"
      }
    },
    {
      "cell_type": "code",
      "source": [
        "torch.manual_seed(42)\n",
        "\n",
        "#setting the number of epochs  i.e how many times model will pass over the training data\n",
        "epochs=200\n",
        "\n",
        "#creating empty list to track down values\n",
        "number_of_epochs=[]\n",
        "train_loss_values=[]\n",
        "test_loss_values=[]\n",
        "\n",
        "##Training\n",
        "for epoch in range(epochs):\n",
        "\n",
        "  #put the model on training mode(this is the default mode)\n",
        "  model_0.train()\n",
        "\n",
        "  ##applying forward pass on the train data using forward method (inside)\n",
        "  train_pred=model_0(x_train)\n",
        "\n",
        "  ##calculate the loss(how diffrent is predictions from ground truth)\n",
        "  train_loss=loss_func(train_pred,y_train)\n",
        "\n",
        "  ##zero grad of optimizer\n",
        "  optimizer.zero_grad()\n",
        "\n",
        "  ##backward propogation\n",
        "  train_loss.backward()\n",
        "\n",
        "  ##stepping the optimizer\n",
        "  optimizer.step()\n",
        "\n",
        "\n",
        "  ##Testing ---Putting the model in evaluation mode\n",
        "  with torch.inference_mode():\n",
        "    model_0.eval()\n",
        "\n",
        "    ##forward pass\n",
        "    test_pred=model_0(x_test)\n",
        "\n",
        "    #test_lost\n",
        "    test_loss=loss_func(test_pred,y_test)\n",
        "\n",
        "\n",
        "  #checking for every 10th epoch\n",
        "  if epoch%10==0:\n",
        "    number_of_epochs.append(epoch)\n",
        "    train_loss_values.append(train_loss.detach().numpy())\n",
        "    test_loss_values.append(test_loss.detach().numpy())\n",
        "    ## we got this error with matplotlib  \" RuntimeError: Can't call numpy() on Tensor that requires grad. Use tensor.detach().numpy() instead.\" so we converted the loss to array for plotting\n",
        "\n",
        "    ##printing how the training and evaluation is going on\n",
        "    print(f\"Epoch : {epoch}  train_loss  : {train_loss}   test_lost  {test_loss}\")\n",
        "    print(model_0.state_dict())\n",
        "\n",
        "\n"
      ],
      "metadata": {
        "colab": {
          "base_uri": "https://localhost:8080/"
        },
        "id": "Elalar-eq68h",
        "outputId": "a2e228f3-98b7-4ea6-c1bb-0b419573445b"
      },
      "execution_count": 16,
      "outputs": [
        {
          "output_type": "stream",
          "name": "stdout",
          "text": [
            "Epoch : 0  train_loss  : 0.9350889325141907   test_lost  1.0627527236938477\n",
            "OrderedDict([('weight', tensor([0.8784])), ('bias', tensor([0.9050]))])\n",
            "Epoch : 10  train_loss  : 0.8198790550231934   test_lost  0.9280427694320679\n",
            "OrderedDict([('weight', tensor([0.8394])), ('bias', tensor([0.8050]))])\n",
            "Epoch : 20  train_loss  : 0.704669177532196   test_lost  0.7933329343795776\n",
            "OrderedDict([('weight', tensor([0.8004])), ('bias', tensor([0.7050]))])\n",
            "Epoch : 30  train_loss  : 0.5894594192504883   test_lost  0.6586230993270874\n",
            "OrderedDict([('weight', tensor([0.7614])), ('bias', tensor([0.6050]))])\n",
            "Epoch : 40  train_loss  : 0.4742494523525238   test_lost  0.5239132642745972\n",
            "OrderedDict([('weight', tensor([0.7224])), ('bias', tensor([0.5050]))])\n",
            "Epoch : 50  train_loss  : 0.3590396046638489   test_lost  0.3892034590244293\n",
            "OrderedDict([('weight', tensor([0.6834])), ('bias', tensor([0.4050]))])\n",
            "Epoch : 60  train_loss  : 0.24382972717285156   test_lost  0.2544935643672943\n",
            "OrderedDict([('weight', tensor([0.6444])), ('bias', tensor([0.3050]))])\n",
            "Epoch : 70  train_loss  : 0.12861979007720947   test_lost  0.11978369951248169\n",
            "OrderedDict([('weight', tensor([0.6054])), ('bias', tensor([0.2050]))])\n",
            "Epoch : 80  train_loss  : 0.013409780338406563   test_lost  0.014926272444427013\n",
            "OrderedDict([('weight', tensor([0.5664])), ('bias', tensor([0.1050]))])\n",
            "Epoch : 90  train_loss  : 0.0037403602618724108   test_lost  0.008036506362259388\n",
            "OrderedDict([('weight', tensor([0.5831])), ('bias', tensor([0.0970]))])\n",
            "Epoch : 100  train_loss  : 0.004495196510106325   test_lost  0.01091083325445652\n",
            "OrderedDict([('weight', tensor([0.5922])), ('bias', tensor([0.0860]))])\n",
            "Epoch : 110  train_loss  : 0.004495196510106325   test_lost  0.01091083325445652\n",
            "OrderedDict([('weight', tensor([0.5922])), ('bias', tensor([0.0860]))])\n",
            "Epoch : 120  train_loss  : 0.004495196510106325   test_lost  0.01091083325445652\n",
            "OrderedDict([('weight', tensor([0.5922])), ('bias', tensor([0.0860]))])\n",
            "Epoch : 130  train_loss  : 0.004495196510106325   test_lost  0.01091083325445652\n",
            "OrderedDict([('weight', tensor([0.5922])), ('bias', tensor([0.0860]))])\n",
            "Epoch : 140  train_loss  : 0.004495196510106325   test_lost  0.01091083325445652\n",
            "OrderedDict([('weight', tensor([0.5922])), ('bias', tensor([0.0860]))])\n",
            "Epoch : 150  train_loss  : 0.004495196510106325   test_lost  0.01091083325445652\n",
            "OrderedDict([('weight', tensor([0.5922])), ('bias', tensor([0.0860]))])\n",
            "Epoch : 160  train_loss  : 0.004495196510106325   test_lost  0.01091083325445652\n",
            "OrderedDict([('weight', tensor([0.5922])), ('bias', tensor([0.0860]))])\n",
            "Epoch : 170  train_loss  : 0.004495196510106325   test_lost  0.01091083325445652\n",
            "OrderedDict([('weight', tensor([0.5922])), ('bias', tensor([0.0860]))])\n",
            "Epoch : 180  train_loss  : 0.004495196510106325   test_lost  0.01091083325445652\n",
            "OrderedDict([('weight', tensor([0.5922])), ('bias', tensor([0.0860]))])\n",
            "Epoch : 190  train_loss  : 0.004495196510106325   test_lost  0.01091083325445652\n",
            "OrderedDict([('weight', tensor([0.5922])), ('bias', tensor([0.0860]))])\n"
          ]
        }
      ]
    },
    {
      "cell_type": "code",
      "source": [
        "##visualizing training loss and test loss over number of epochs\n",
        "\n",
        "plt.plot(number_of_epochs,train_loss_values,label=\"train loss\")\n",
        "plt.plot(number_of_epochs,test_loss_values,label=\"test loss\")\n",
        "plt.title(\"Train-Test loss curve\")\n",
        "plt.xlabel(\"epochs\")\n",
        "plt.ylabel(\"loss\")\n",
        "plt.show()"
      ],
      "metadata": {
        "colab": {
          "base_uri": "https://localhost:8080/",
          "height": 472
        },
        "id": "o8kkURSixvmY",
        "outputId": "ad21dfb4-e1ef-4714-d129-61bfe31902bc"
      },
      "execution_count": 17,
      "outputs": [
        {
          "output_type": "display_data",
          "data": {
            "text/plain": [
              "<Figure size 640x480 with 1 Axes>"
            ],
            "image/png": "[encoded data removed]"
          },
          "metadata": {}
        }
      ]
    },
    {
      "cell_type": "code",
      "source": [
        "# Find our model's learned parameters\n",
        "print(\"The model learned the following values for weights and bias:\")\n",
        "print(model_0.state_dict())\n",
        "print(\"\\nAnd the original values for weights and bias are:\")\n",
        "print(f\"weights: {weight}, bias: {bias}\")"
      ],
      "metadata": {
        "colab": {
          "base_uri": "https://localhost:8080/"
        },
        "id": "8vEUqMSzziay",
        "outputId": "d2f8cc0a-13b6-4ebf-8025-6e981138fd98"
      },
      "execution_count": 18,
      "outputs": [
        {
          "output_type": "stream",
          "name": "stdout",
          "text": [
            "The model learned the following values for weights and bias:\n",
            "OrderedDict([('weight', tensor([0.5961])), ('bias', tensor([0.0960]))])\n",
            "\n",
            "And the original values for weights and bias are:\n",
            "weights: 0.6, bias: 0.09\n"
          ]
        }
      ]
    },
    {
      "cell_type": "code",
      "source": [
        "### making predictions with our model\n",
        "# 1. Set the model in evaluation mode\n",
        "model_0.eval()\n",
        "\n",
        "# 2. Setup the inference mode context manager\n",
        "with torch.inference_mode():\n",
        "  # 3. Make sure the calculations are done with the model and data on the same device\n",
        "  # in our case, we haven't setup device-agnostic code yet so our data and model are\n",
        "  # on the CPU by default.\n",
        "  # model_0.to(device)\n",
        "  # x_test = x_test.to(device)\n",
        "  y_preds = model_0(x_test)\n",
        "y_preds"
      ],
      "metadata": {
        "colab": {
          "base_uri": "https://localhost:8080/"
        },
        "id": "HHFspALyz7qW",
        "outputId": "d12f809a-8d23-477e-f1fb-9308f849daaa"
      },
      "execution_count": 19,
      "outputs": [
        {
          "output_type": "execute_result",
          "data": {
            "text/plain": [
              "tensor([[0.5729],\n",
              "        [0.5848],\n",
              "        [0.5968],\n",
              "        [0.6087],\n",
              "        [0.6206],\n",
              "        [0.6325],\n",
              "        [0.6444],\n",
              "        [0.6564],\n",
              "        [0.6683],\n",
              "        [0.6802]])"
            ]
          },
          "metadata": {},
          "execution_count": 19
        }
      ]
    },
    {
      "cell_type": "code",
      "source": [
        "plot_data(predictions=y_preds)"
      ],
      "metadata": {
        "colab": {
          "base_uri": "https://localhost:8080/",
          "height": 599
        },
        "id": "4d9zgPpN1Mqv",
        "outputId": "841393d3-d41e-4a62-c051-a33d438a13c2"
      },
      "execution_count": 20,
      "outputs": [
        {
          "output_type": "display_data",
          "data": {
            "text/plain": [
              "<Figure size 1000x700 with 1 Axes>"
            ],
            "image/png": "[encoded data removed]"
          },
          "metadata": {}
        }
      ]
    },
    {
      "cell_type": "markdown",
      "source": [
        "### SAVING AND LOADING A MODEL\n",
        "\n",
        "- There are basically three methods to save and load the model\n",
        "\n",
        "\n",
        "- torch.save :\tSaves a serialized object to disk using Python's pickle utility. Models, tensors and various other Python objects like dictionaries can be saved using torch.save.\n",
        "- torch.load\t: Uses pickle's unpickling features to deserialize and load pickled Python object files (like models, tensors or dictionaries) into memory. You can also set which device to load the object to (CPU, GPU etc).\n",
        "- torch.nn.Module.load_state_dict\t: Loads a model's parameter dictionary (model.state_dict()) using a saved state_dict() object.  \n",
        "\n",
        "\n",
        "\n",
        "#### The recommended way for saving and loading a model for inference (making predictions) is by saving and loading a model's state_dict().\n",
        "\n",
        "\n",
        "\n",
        "- We'll create a directory for saving models to called models using Python's pathlib module.\n",
        "- We'll create a file path to save the model to.\n",
        "- We'll call torch.save(obj, f) where obj is the target model's state_dict() and f is the filename of where to save the model.  \n",
        "\n",
        "\n",
        "\n",
        "Note: It's common convention for PyTorch saved models or objects to end with .pt or .pth, like saved_model_01.pth."
      ],
      "metadata": {
        "id": "83or7smENgrQ"
      }
    },
    {
      "cell_type": "code",
      "source": [
        "#saving the pytorch model\n",
        "from pathlib import Path\n",
        "\n",
        "#create models directory\n",
        "MODEL_PATH=Path(\"models\")\n",
        "MODEL_PATH.mkdir(parents=True,exist_ok=True)\n",
        "\n",
        "\n",
        "## creating models save path\n",
        "MODEL_NAME=\"03_pytorch_workflow_model_0.pth\"##models should have .pth extension\n",
        "MODEL_SAVE_PATH=MODEL_PATH/MODEL_NAME\n",
        "\n",
        "\n",
        "##save the model state dict\n",
        "print(\"saving model to : \",MODEL_SAVE_PATH)\n",
        "\n",
        "torch.save(obj=model_0.state_dict(),f=MODEL_SAVE_PATH)"
      ],
      "metadata": {
        "id": "FHhOo5ln1Ute",
        "colab": {
          "base_uri": "https://localhost:8080/"
        },
        "outputId": "8862096a-bb0e-4f37-8542-1eccb347f3d8"
      },
      "execution_count": 21,
      "outputs": [
        {
          "output_type": "stream",
          "name": "stdout",
          "text": [
            "saving model to :  models/03_pytorch_workflow_model_0.pth\n"
          ]
        }
      ]
    },
    {
      "cell_type": "code",
      "source": [
        "ls-l models\n"
      ],
      "metadata": {
        "colab": {
          "base_uri": "https://localhost:8080/"
        },
        "id": "ukc9LLHSMvgg",
        "outputId": "3199fab9-defa-4b32-bad5-0443f3cbb690"
      },
      "execution_count": 22,
      "outputs": [
        {
          "output_type": "stream",
          "name": "stdout",
          "text": [
            "total 4\n",
            "-rw-r--r-- 1 root root 1680 Mar 12 01:07 03_pytorch_workflow_model_0.pth\n"
          ]
        }
      ]
    },
    {
      "cell_type": "markdown",
      "source": [
        "### LOADING THE SAVED MODEL\n",
        "\n",
        "Loading a saved PyTorch model's state_dict()\n",
        "Since we've now got a saved model state_dict() at models/01_pytorch_workflow_model_0.pth we can now load it in using torch.nn.Module.load_state_dict(torch.load(f)) where f is the filepath of our saved model state_dict().\n",
        "\n",
        "Why call torch.load() inside torch.nn.Module.load_state_dict()?\n",
        "\n",
        "Because we only saved the model's state_dict() which is a dictionary of learned parameters and not the entire model, we first have to load the state_dict() with torch.load() and then pass that state_dict() to a new instance of our model (which is a subclass of nn.Module).\n",
        "\n",
        "Why not save the entire model?\n",
        "\n",
        "Saving the entire model rather than just the state_dict() is more intuitive, however, to quote the PyTorch documentation (italics mine):\n",
        "\n",
        "The disadvantage of this approach (saving the whole model) is that the serialized data is bound to the specific classes and the exact directory structure used when the model is saved...\n",
        "\n",
        "Because of this, our code can break in various ways when used in other projects or after refactors.\n",
        "\n",
        "So instead, we're using the flexible method of saving and loading just the state_dict(), which again is basically a dictionary of model parameters.\n",
        "\n",
        "Let's test it out by created another instance of LinearRegressionModel(), which is a subclass of torch.nn.Module and will hence have the in-built method load_state_dict()."
      ],
      "metadata": {
        "id": "pxdLeP56Q2Vu"
      }
    },
    {
      "cell_type": "code",
      "source": [
        "## instantiate a new instance of our model ,this will be instantitaed with random weights\n",
        "loaded_model_0=LinearRegressionModel()\n",
        "\n",
        "# Load the state_dict of our saved model (this will update the new instance of our model with trained weights)\n",
        "loaded_model_0.load_state_dict(torch.load(f=MODEL_SAVE_PATH))"
      ],
      "metadata": {
        "colab": {
          "base_uri": "https://localhost:8080/"
        },
        "id": "niq-rWUYO9kt",
        "outputId": "b8307686-645d-4958-bd56-95b78d8174a0"
      },
      "execution_count": 24,
      "outputs": [
        {
          "output_type": "execute_result",
          "data": {
            "text/plain": [
              "<All keys matched successfully>"
            ]
          },
          "metadata": {},
          "execution_count": 24
        }
      ]
    },
    {
      "cell_type": "code",
      "source": [
        "# 1. Putting the loaded model into evaluation mode\n",
        "loaded_model_0.eval()\n",
        "\n",
        "# 2. Using the inference mode context manager to make predictions\n",
        "with torch.inference_mode():\n",
        "    loaded_model_preds = loaded_model_0(x_test) # perform a forward pass on the test data with the loaded model"
      ],
      "metadata": {
        "id": "9Jr5M_DGR5OI"
      },
      "execution_count": 26,
      "outputs": []
    },
    {
      "cell_type": "code",
      "source": [
        "# Compare previous model predictions with loaded model predictions (these should be the same)\n",
        "y_preds == loaded_model_preds"
      ],
      "metadata": {
        "colab": {
          "base_uri": "https://localhost:8080/"
        },
        "id": "oa1h8c71SKyW",
        "outputId": "12ea862a-f2cf-4d03-ce01-4b998691bfb3"
      },
      "execution_count": 27,
      "outputs": [
        {
          "output_type": "execute_result",
          "data": {
            "text/plain": [
              "tensor([[True],\n",
              "        [True],\n",
              "        [True],\n",
              "        [True],\n",
              "        [True],\n",
              "        [True],\n",
              "        [True],\n",
              "        [True],\n",
              "        [True],\n",
              "        [True]])"
            ]
          },
          "metadata": {},
          "execution_count": 27
        }
      ]
    },
    {
      "cell_type": "markdown",
      "source": [
        "It looks like the loaded model predictions are the same as the previous model predictions (predictions made prior to saving). This indicates our model is saving and loading as expected."
      ],
      "metadata": {
        "id": "VuuQk1pmSy-Y"
      }
    },
    {
      "cell_type": "markdown",
      "source": [
        "### SUMMARIZING"
      ],
      "metadata": {
        "id": "SQl9NKfvUFV8"
      }
    },
    {
      "cell_type": "code",
      "source": [
        "import matplotlib.pyplot as plt\n",
        "import torch\n",
        "from torch import nn\n",
        "torch.__version__"
      ],
      "metadata": {
        "colab": {
          "base_uri": "https://localhost:8080/",
          "height": 35
        },
        "id": "asGjE9uBSU23",
        "outputId": "f383b49e-bf56-420e-83b2-45c23e1ef7f7"
      },
      "execution_count": 28,
      "outputs": [
        {
          "output_type": "execute_result",
          "data": {
            "text/plain": [
              "'2.1.0+cu121'"
            ],
            "application/vnd.google.colaboratory.intrinsic+json": {
              "type": "string"
            }
          },
          "metadata": {},
          "execution_count": 28
        }
      ]
    },
    {
      "cell_type": "code",
      "source": [
        "##setting device agnostic code\n",
        "device=\"cuda\" if torch.cuda.is_available() else \"cpu\"\n",
        "print(\"Using device : \",device)"
      ],
      "metadata": {
        "colab": {
          "base_uri": "https://localhost:8080/"
        },
        "id": "ch_quz02Ue7r",
        "outputId": "0b8310aa-27f1-4700-d45b-899c48695235"
      },
      "execution_count": 30,
      "outputs": [
        {
          "output_type": "stream",
          "name": "stdout",
          "text": [
            "Using device :  cpu\n"
          ]
        }
      ]
    },
    {
      "cell_type": "markdown",
      "source": [
        "### CREATING DATA AND SPLITTING INTO TRAIN AND TEST"
      ],
      "metadata": {
        "id": "7Xc-B57XcAg4"
      }
    },
    {
      "cell_type": "code",
      "source": [
        "### creating some data using linear regrssion formula y=weights*x + bias\n",
        "weight=0.8\n",
        "bias=0.1\n",
        "\n",
        "##creating x and y\n",
        "x=torch.arange(0,1,0.02).unsqueeze(dim=1)\n",
        "y=weight*x + bias\n",
        "\n",
        "x,y"
      ],
      "metadata": {
        "colab": {
          "base_uri": "https://localhost:8080/"
        },
        "id": "o7-YXLjRU7nU",
        "outputId": "1044016b-ef1a-49c9-b310-a4756f94aa90"
      },
      "execution_count": 53,
      "outputs": [
        {
          "output_type": "execute_result",
          "data": {
            "text/plain": [
              "(tensor([[0.0000],\n",
              "         [0.0200],\n",
              "         [0.0400],\n",
              "         [0.0600],\n",
              "         [0.0800],\n",
              "         [0.1000],\n",
              "         [0.1200],\n",
              "         [0.1400],\n",
              "         [0.1600],\n",
              "         [0.1800],\n",
              "         [0.2000],\n",
              "         [0.2200],\n",
              "         [0.2400],\n",
              "         [0.2600],\n",
              "         [0.2800],\n",
              "         [0.3000],\n",
              "         [0.3200],\n",
              "         [0.3400],\n",
              "         [0.3600],\n",
              "         [0.3800],\n",
              "         [0.4000],\n",
              "         [0.4200],\n",
              "         [0.4400],\n",
              "         [0.4600],\n",
              "         [0.4800],\n",
              "         [0.5000],\n",
              "         [0.5200],\n",
              "         [0.5400],\n",
              "         [0.5600],\n",
              "         [0.5800],\n",
              "         [0.6000],\n",
              "         [0.6200],\n",
              "         [0.6400],\n",
              "         [0.6600],\n",
              "         [0.6800],\n",
              "         [0.7000],\n",
              "         [0.7200],\n",
              "         [0.7400],\n",
              "         [0.7600],\n",
              "         [0.7800],\n",
              "         [0.8000],\n",
              "         [0.8200],\n",
              "         [0.8400],\n",
              "         [0.8600],\n",
              "         [0.8800],\n",
              "         [0.9000],\n",
              "         [0.9200],\n",
              "         [0.9400],\n",
              "         [0.9600],\n",
              "         [0.9800]]),\n",
              " tensor([[0.1000],\n",
              "         [0.1160],\n",
              "         [0.1320],\n",
              "         [0.1480],\n",
              "         [0.1640],\n",
              "         [0.1800],\n",
              "         [0.1960],\n",
              "         [0.2120],\n",
              "         [0.2280],\n",
              "         [0.2440],\n",
              "         [0.2600],\n",
              "         [0.2760],\n",
              "         [0.2920],\n",
              "         [0.3080],\n",
              "         [0.3240],\n",
              "         [0.3400],\n",
              "         [0.3560],\n",
              "         [0.3720],\n",
              "         [0.3880],\n",
              "         [0.4040],\n",
              "         [0.4200],\n",
              "         [0.4360],\n",
              "         [0.4520],\n",
              "         [0.4680],\n",
              "         [0.4840],\n",
              "         [0.5000],\n",
              "         [0.5160],\n",
              "         [0.5320],\n",
              "         [0.5480],\n",
              "         [0.5640],\n",
              "         [0.5800],\n",
              "         [0.5960],\n",
              "         [0.6120],\n",
              "         [0.6280],\n",
              "         [0.6440],\n",
              "         [0.6600],\n",
              "         [0.6760],\n",
              "         [0.6920],\n",
              "         [0.7080],\n",
              "         [0.7240],\n",
              "         [0.7400],\n",
              "         [0.7560],\n",
              "         [0.7720],\n",
              "         [0.7880],\n",
              "         [0.8040],\n",
              "         [0.8200],\n",
              "         [0.8360],\n",
              "         [0.8520],\n",
              "         [0.8680],\n",
              "         [0.8840]]))"
            ]
          },
          "metadata": {},
          "execution_count": 53
        }
      ]
    },
    {
      "cell_type": "code",
      "source": [
        "##splitting the data into train and test\n",
        "train_split=int(0.8*len(x))\n",
        "x_train,y_train=x[:train_split],y[:train_split]\n",
        "x_test,y_test=x[train_split:],y[train_split:]\n",
        "\n",
        "len(x_train),len(y_train),len(x_test),len(y_test)"
      ],
      "metadata": {
        "colab": {
          "base_uri": "https://localhost:8080/"
        },
        "id": "Gozo6fxtX0H0",
        "outputId": "e40b5895-f3ee-4340-c336-e79e53e6b120"
      },
      "execution_count": 54,
      "outputs": [
        {
          "output_type": "execute_result",
          "data": {
            "text/plain": [
              "(40, 40, 10, 10)"
            ]
          },
          "metadata": {},
          "execution_count": 54
        }
      ]
    },
    {
      "cell_type": "code",
      "source": [
        "## creating a function to plot training data,testing data and predictions\n",
        "\n",
        "def plot_data(train_data=x_train,train_labels=y_train,test_data=x_test,test_labels=y_test,predictions=None):\n",
        "  \"\"\"plots training data,test,data and compares predicions\"\"\"\n",
        "  plt.figure(figsize=(10,7))\n",
        "\n",
        "\n",
        "  #plotting train_data\n",
        "  plt.scatter(train_data,train_labels,s=10,c=\"b\",label=\"training_data\")\n",
        "\n",
        "  #plotting test data\n",
        "  plt.scatter(test_data,test_labels,s=10,c=\"g\",label=\"test_data\")\n",
        "\n",
        "  #plotting predictions\n",
        "  if predictions is not None:\n",
        "    plt.scatter(test_data,predictions,s=10,c=\"r\",label=\"predictions\")\n",
        "\n",
        "  #show the legend\n",
        "  plt.legend(prop={\"size\":14})\n"
      ],
      "metadata": {
        "id": "7gyeVFDUYCI6"
      },
      "execution_count": 55,
      "outputs": []
    },
    {
      "cell_type": "code",
      "source": [
        "plot_data()"
      ],
      "metadata": {
        "colab": {
          "base_uri": "https://localhost:8080/",
          "height": 599
        },
        "id": "jzc_f7nZY7Mg",
        "outputId": "ca1daf3f-69d6-4c6c-ed5c-800ef93ede41"
      },
      "execution_count": 56,
      "outputs": [
        {
          "output_type": "display_data",
          "data": {
            "text/plain": [
              "<Figure size 1000x700 with 1 Axes>"
            ],
            "image/png": "[encoded data removed]"
          },
          "metadata": {}
        }
      ]
    },
    {
      "cell_type": "markdown",
      "source": [
        "### BUILDING A PYTORCH MODEL  \n",
        "\n",
        "We'll create the same style of model as before except this time, instead of defining the weight and bias parameters of our model manually using nn.Parameter(), we'll use nn.Linear(in_features, out_features) to do it for us.\n",
        "\n",
        "Where in_features is the number of dimensions your input data has and out_features is the number of dimensions you'd like it to be output to.\n",
        "\n",
        "In our case, both of these are 1 since our data has 1 input feature (X) per label (y)."
      ],
      "metadata": {
        "id": "Ce1SvhBUb6iN"
      }
    },
    {
      "cell_type": "code",
      "source": [
        "##subclass nn module to make our model\n",
        "class LinearRegressionModel2(nn.Module):\n",
        "  def __init__(self):\n",
        "    super().__init__()\n",
        "    ##using nn.linear for creating models parameters\n",
        "    self.Linear_Layer=nn.Linear(in_features=1,out_features=1)\n",
        "\n",
        "\n",
        "  ###definingvthe forward computations\n",
        "  def forward(self, x: torch.Tensor) -> torch.Tensor:\n",
        "    return self.Linear_Layer(x)\n",
        "\n",
        "torch.manual_seed(42)\n",
        "model_1 = LinearRegressionModel2()\n",
        "model_1, model_1.state_dict()"
      ],
      "metadata": {
        "colab": {
          "base_uri": "https://localhost:8080/"
        },
        "id": "PccNK0VYZDLf",
        "outputId": "8ff8ca4f-8c7e-4e5e-9419-191241186a0c"
      },
      "execution_count": 57,
      "outputs": [
        {
          "output_type": "execute_result",
          "data": {
            "text/plain": [
              "(LinearRegressionModel2(\n",
              "   (Linear_Layer): Linear(in_features=1, out_features=1, bias=True)\n",
              " ),\n",
              " OrderedDict([('Linear_Layer.weight', tensor([[0.7645]])),\n",
              "              ('Linear_Layer.bias', tensor([0.8300]))]))"
            ]
          },
          "metadata": {},
          "execution_count": 57
        }
      ]
    },
    {
      "cell_type": "code",
      "source": [
        "##check the modls current device\n",
        "next(model_1.parameters()).device"
      ],
      "metadata": {
        "colab": {
          "base_uri": "https://localhost:8080/"
        },
        "id": "o-HVsfS9dseK",
        "outputId": "934c3d62-7686-4fec-8aff-683f9f8329a0"
      },
      "execution_count": 58,
      "outputs": [
        {
          "output_type": "execute_result",
          "data": {
            "text/plain": [
              "device(type='cpu')"
            ]
          },
          "metadata": {},
          "execution_count": 58
        }
      ]
    },
    {
      "cell_type": "code",
      "source": [
        "# Set model to GPU if it's availalble, otherwise it'll default to CPU\n",
        "model_1.to(device) # the device variable was set above to be \"cuda\" if available or \"cpu\" if not\n",
        "next(model_1.parameters()).device"
      ],
      "metadata": {
        "colab": {
          "base_uri": "https://localhost:8080/"
        },
        "id": "vQ8rhywNe232",
        "outputId": "ae58e2b7-d765-4919-ee60-368cf712fa8a"
      },
      "execution_count": 59,
      "outputs": [
        {
          "output_type": "execute_result",
          "data": {
            "text/plain": [
              "device(type='cpu')"
            ]
          },
          "metadata": {},
          "execution_count": 59
        }
      ]
    },
    {
      "cell_type": "code",
      "source": [
        "##setting loss function\n",
        "loss_func=nn.L1Loss()\n",
        "\n",
        "##setting optimizer\n",
        "optimizer=torch.optim.SGD(params=model_1.parameters(),lr=0.01)\n"
      ],
      "metadata": {
        "id": "nJ4ZL8jGfBNz"
      },
      "execution_count": 60,
      "outputs": []
    },
    {
      "cell_type": "markdown",
      "source": [
        "### TRAINING"
      ],
      "metadata": {
        "id": "CKwZ01Czjx7b"
      }
    },
    {
      "cell_type": "code",
      "source": [
        "torch.manual_seed(42)\n",
        "\n",
        "# Set the number of epochs\n",
        "epochs = 1000\n",
        "\n",
        "# Put data on the available device\n",
        "# Without this, error will happen (not all model/data on device)\n",
        "x_train = x_train.to(device)\n",
        "x_test = x_test.to(device)\n",
        "y_train = y_train.to(device)\n",
        "y_test = y_test.to(device)\n",
        "\n",
        "for epoch in range(epochs):\n",
        "    ### Training\n",
        "    model_1.train() # train mode is on by default after construction\n",
        "\n",
        "    # 1. Forward pass\n",
        "    y_pred = model_1(x_train)\n",
        "\n",
        "    # 2. Calculate loss\n",
        "    loss = loss_func(y_pred, y_train)\n",
        "\n",
        "    # 3. Zero grad optimizer\n",
        "    optimizer.zero_grad()\n",
        "\n",
        "    # 4. Loss backward\n",
        "    loss.backward()\n",
        "\n",
        "    # 5. Step the optimizer\n",
        "    optimizer.step()\n",
        "\n",
        "    ### Testing\n",
        "    model_1.eval() # put the model in evaluation mode for testing (inference)\n",
        "    # 1. Forward pass\n",
        "    with torch.inference_mode():\n",
        "        test_pred = model_1(x_test)\n",
        "\n",
        "        # 2. Calculate the loss\n",
        "        test_loss = loss_func(test_pred, y_test)\n",
        "\n",
        "    if epoch % 100 == 0:\n",
        "        print(f\"Epoch: {epoch} | Train loss: {loss} | Test loss: {test_loss}\")"
      ],
      "metadata": {
        "colab": {
          "base_uri": "https://localhost:8080/"
        },
        "id": "YNquPl_qgS1c",
        "outputId": "d694e21e-68da-4d9c-ff75-6eda623e8b4a"
      },
      "execution_count": 62,
      "outputs": [
        {
          "output_type": "stream",
          "name": "stdout",
          "text": [
            "Epoch: 0 | Train loss: 0.7161778807640076 | Test loss: 0.6849762201309204\n",
            "Epoch: 100 | Train loss: 0.04098118096590042 | Test loss: 0.09487911313772202\n",
            "Epoch: 200 | Train loss: 0.006639957427978516 | Test loss: 0.014901936054229736\n",
            "Epoch: 300 | Train loss: 0.007208128925412893 | Test loss: 0.001497757388278842\n",
            "Epoch: 400 | Train loss: 0.007208128925412893 | Test loss: 0.001497757388278842\n",
            "Epoch: 500 | Train loss: 0.007208128925412893 | Test loss: 0.001497757388278842\n",
            "Epoch: 600 | Train loss: 0.007208128925412893 | Test loss: 0.001497757388278842\n",
            "Epoch: 700 | Train loss: 0.007208128925412893 | Test loss: 0.001497757388278842\n",
            "Epoch: 800 | Train loss: 0.007208128925412893 | Test loss: 0.001497757388278842\n",
            "Epoch: 900 | Train loss: 0.007208128925412893 | Test loss: 0.001497757388278842\n"
          ]
        }
      ]
    },
    {
      "cell_type": "code",
      "source": [
        "# Find our model's learned parameters\n",
        "from pprint import pprint # pprint = pretty print, see: https://docs.python.org/3/library/pprint.html\n",
        "print(\"The model learned the following values for weights and bias:\")\n",
        "pprint(model_1.state_dict())\n",
        "print(\"\\nAnd the original values for weights and bias are:\")\n",
        "print(f\"weights: {weight}, bias: {bias}\")"
      ],
      "metadata": {
        "colab": {
          "base_uri": "https://localhost:8080/"
        },
        "id": "gjpViy6skHpu",
        "outputId": "de21e0e5-5000-478f-8bf3-fe69b3f280db"
      },
      "execution_count": 63,
      "outputs": [
        {
          "output_type": "stream",
          "name": "stdout",
          "text": [
            "The model learned the following values for weights and bias:\n",
            "OrderedDict([('Linear_Layer.weight', tensor([[0.7905]])),\n",
            "             ('Linear_Layer.bias', tensor([0.0965]))])\n",
            "\n",
            "And the original values for weights and bias are:\n",
            "weights: 0.8, bias: 0.1\n"
          ]
        }
      ]
    },
    {
      "cell_type": "code",
      "source": [
        "##Making Predictions\n",
        "# Turn model into evaluation mode\n",
        "model_1.eval()\n",
        "\n",
        "# Make predictions on the test data\n",
        "with torch.inference_mode():\n",
        "    y_preds = model_1(x_test)\n",
        "y_preds"
      ],
      "metadata": {
        "colab": {
          "base_uri": "https://localhost:8080/"
        },
        "id": "kHGlz3sjlNzT",
        "outputId": "c73e619f-02de-4ca6-da94-98094d8cd70a"
      },
      "execution_count": 64,
      "outputs": [
        {
          "output_type": "execute_result",
          "data": {
            "text/plain": [
              "tensor([[0.7289],\n",
              "        [0.7447],\n",
              "        [0.7605],\n",
              "        [0.7763],\n",
              "        [0.7921],\n",
              "        [0.8079],\n",
              "        [0.8237],\n",
              "        [0.8396],\n",
              "        [0.8554],\n",
              "        [0.8712]])"
            ]
          },
          "metadata": {},
          "execution_count": 64
        }
      ]
    },
    {
      "cell_type": "code",
      "source": [
        " plot_data(predictions=y_preds) # -> won't work... data not on CPU\n",
        "\n",
        "# Put data on the CPU and plot it\n",
        "plot_data(predictions=y_preds.cpu())"
      ],
      "metadata": {
        "colab": {
          "base_uri": "https://localhost:8080/",
          "height": 1000
        },
        "id": "0iKsmUltlYra",
        "outputId": "099dbffa-9df6-4b24-cfa5-71da6b58bba4"
      },
      "execution_count": 66,
      "outputs": [
        {
          "output_type": "display_data",
          "data": {
            "text/plain": [
              "<Figure size 1000x700 with 1 Axes>"
            ],
            "image/png": "[encoded data removed]"
          },
          "metadata": {}
        },
        {
          "output_type": "display_data",
          "data": {
            "text/plain": [
              "<Figure size 1000x700 with 1 Axes>"
            ],
            "image/png": "[encoded data removed]"
          },
          "metadata": {}
        }
      ]
    },
    {
      "cell_type": "code",
      "source": [],
      "metadata": {
        "id": "Gwpp1j_slewZ"
      },
      "execution_count": null,
      "outputs": []
    }
  ]
}