{
  "nbformat": 4,
  "nbformat_minor": 0,
  "metadata": {
    "colab": {
      "provenance": [],
      "gpuType": "T4"
    },
    "kernelspec": {
      "name": "python3",
      "display_name": "Python 3"
    },
    "language_info": {
      "name": "python"
    },
    "accelerator": "GPU"
  },
  "cells": [
    {
      "cell_type": "code",
      "execution_count": 21,
      "metadata": {
        "colab": {
          "base_uri": "https://localhost:8080/",
          "height": 36
        },
        "id": "NF_mM3ebWnsU",
        "outputId": "34449752-6d5d-464c-b804-457b45c1fa3c"
      },
      "outputs": [
        {
          "output_type": "execute_result",
          "data": {
            "text/plain": [
              "'2.1.0+cu121'"
            ],
            "application/vnd.google.colaboratory.intrinsic+json": {
              "type": "string"
            }
          },
          "metadata": {},
          "execution_count": 21
        }
      ],
      "source": [
        "import torch\n",
        "import numpy as np\n",
        "torch.__version__"
      ]
    },
    {
      "cell_type": "markdown",
      "source": [
        "### INDEXING\n",
        "\n",
        "\n",
        "- Indexing in PyTorch is same as indexing in numpy"
      ],
      "metadata": {
        "id": "79Qnae6BXE_V"
      }
    },
    {
      "cell_type": "code",
      "source": [
        "##creating a tensor\n",
        "x=torch.arange(1,13).reshape(1,3,4)\n",
        "x,x.shape"
      ],
      "metadata": {
        "colab": {
          "base_uri": "https://localhost:8080/"
        },
        "id": "MbF3tMz-W9wa",
        "outputId": "0f2f7ac6-1519-4b46-fe84-1025b348bdd5"
      },
      "execution_count": 4,
      "outputs": [
        {
          "output_type": "execute_result",
          "data": {
            "text/plain": [
              "(tensor([[[ 1,  2,  3,  4],\n",
              "          [ 5,  6,  7,  8],\n",
              "          [ 9, 10, 11, 12]]]),\n",
              " torch.Size([1, 3, 4]))"
            ]
          },
          "metadata": {},
          "execution_count": 4
        }
      ]
    },
    {
      "cell_type": "code",
      "source": [
        "## getting the 0th dimension\n",
        "x[0]"
      ],
      "metadata": {
        "colab": {
          "base_uri": "https://localhost:8080/"
        },
        "id": "2Qr8xAKwY9dz",
        "outputId": "bf26ff21-f59c-4dd5-9d82-1b905a1ef080"
      },
      "execution_count": 10,
      "outputs": [
        {
          "output_type": "execute_result",
          "data": {
            "text/plain": [
              "tensor([[ 1,  2,  3,  4],\n",
              "        [ 5,  6,  7,  8],\n",
              "        [ 9, 10, 11, 12]])"
            ]
          },
          "metadata": {},
          "execution_count": 10
        }
      ]
    },
    {
      "cell_type": "code",
      "source": [
        "##getting dimension 1\n",
        "x[0][0],x[:,0]\n",
        "#in the second we are selecting all the 0th dimension and 1 dimension\n",
        "#in first we are selecting 0yh dimension and dimension 1"
      ],
      "metadata": {
        "colab": {
          "base_uri": "https://localhost:8080/"
        },
        "id": "_4oJDUOlZMsj",
        "outputId": "f9d153c9-a35c-4874-f77a-1b8f8a0b1bf6"
      },
      "execution_count": 11,
      "outputs": [
        {
          "output_type": "execute_result",
          "data": {
            "text/plain": [
              "(tensor([1, 2, 3, 4]), tensor([[1, 2, 3, 4]]))"
            ]
          },
          "metadata": {},
          "execution_count": 11
        }
      ]
    },
    {
      "cell_type": "code",
      "source": [
        "## getting dimension 2\n",
        "x[0][0][0],x[:,0,0]"
      ],
      "metadata": {
        "colab": {
          "base_uri": "https://localhost:8080/"
        },
        "id": "Ta3NZPL-ZVSo",
        "outputId": "39b670d5-a856-42b8-fa26-d4bb8a20f9aa"
      },
      "execution_count": 15,
      "outputs": [
        {
          "output_type": "execute_result",
          "data": {
            "text/plain": [
              "(tensor(1), tensor([1]))"
            ]
          },
          "metadata": {},
          "execution_count": 15
        }
      ]
    },
    {
      "cell_type": "code",
      "source": [
        "## getting all the elemnts from 3rd row\n",
        "x[:,2,:],x[0][2]"
      ],
      "metadata": {
        "colab": {
          "base_uri": "https://localhost:8080/"
        },
        "id": "OwK9RIFXaHJ3",
        "outputId": "463b994a-1d57-42c9-8772-131c7778dc98"
      },
      "execution_count": 17,
      "outputs": [
        {
          "output_type": "execute_result",
          "data": {
            "text/plain": [
              "(tensor([[ 9, 10, 11, 12]]), tensor([ 9, 10, 11, 12]))"
            ]
          },
          "metadata": {},
          "execution_count": 17
        }
      ]
    },
    {
      "cell_type": "code",
      "source": [
        "### getting all the elements from 2nd column\n",
        "x[:,:,1]"
      ],
      "metadata": {
        "colab": {
          "base_uri": "https://localhost:8080/"
        },
        "id": "40eqXgBYat-E",
        "outputId": "889adace-18ea-4722-dc2e-ca355f11e16b"
      },
      "execution_count": 19,
      "outputs": [
        {
          "output_type": "execute_result",
          "data": {
            "text/plain": [
              "tensor([[ 2,  6, 10]])"
            ]
          },
          "metadata": {},
          "execution_count": 19
        }
      ]
    },
    {
      "cell_type": "code",
      "source": [
        "## getting number 7\n",
        "x[0][1][2],x[:,1,2]"
      ],
      "metadata": {
        "colab": {
          "base_uri": "https://localhost:8080/"
        },
        "id": "WWO8uaeQbp_F",
        "outputId": "442443b9-b71c-47de-9959-2c6c17c0279f"
      },
      "execution_count": 20,
      "outputs": [
        {
          "output_type": "execute_result",
          "data": {
            "text/plain": [
              "(tensor(7), tensor([7]))"
            ]
          },
          "metadata": {},
          "execution_count": 20
        }
      ]
    },
    {
      "cell_type": "markdown",
      "source": [
        "### NUMPY ARRAY AND TENSORS\n",
        "\n",
        "- Numpy also known as Numerical Python is a computing library  where operations are performed on arrays.\n",
        "- PyTorch has functionality to interact with it\n",
        "- Default datatype of Numpy array is float64\n",
        "- Default datatype of tensor is float32  \n",
        "- numpy array to tensor `torch.from_numpy(numpy_array)`"
      ],
      "metadata": {
        "id": "K4dJQ8zWenLE"
      }
    },
    {
      "cell_type": "code",
      "source": [
        "## craeting an array and tensor from array\n",
        "array=np.arange(1.0,10)\n",
        "tensor_array=torch.from_numpy(array)\n",
        "array,tensor_array"
      ],
      "metadata": {
        "colab": {
          "base_uri": "https://localhost:8080/"
        },
        "id": "FdO-DgHVcCfy",
        "outputId": "ee841a18-abec-494e-c4a3-f1e5bb89b5b5"
      },
      "execution_count": 25,
      "outputs": [
        {
          "output_type": "execute_result",
          "data": {
            "text/plain": [
              "(array([1., 2., 3., 4., 5., 6., 7., 8., 9.]),\n",
              " tensor([1., 2., 3., 4., 5., 6., 7., 8., 9.], dtype=torch.float64))"
            ]
          },
          "metadata": {},
          "execution_count": 25
        }
      ]
    },
    {
      "cell_type": "code",
      "source": [
        "#checking datatype of array and tensor\n",
        "array.dtype,tensor_array.dtype"
      ],
      "metadata": {
        "colab": {
          "base_uri": "https://localhost:8080/"
        },
        "id": "whAXOi2KgmhK",
        "outputId": "78230a24-94a1-485b-8438-045c7a87502d"
      },
      "execution_count": 26,
      "outputs": [
        {
          "output_type": "execute_result",
          "data": {
            "text/plain": [
              "(dtype('float64'), torch.float64)"
            ]
          },
          "metadata": {},
          "execution_count": 26
        }
      ]
    },
    {
      "cell_type": "code",
      "source": [
        "x=torch.arange(1.0,10.0)#tensor default dytpe is float32\n",
        "x,x.dtype"
      ],
      "metadata": {
        "colab": {
          "base_uri": "https://localhost:8080/"
        },
        "id": "pVoEMMXpgw72",
        "outputId": "6aa4238c-5ebb-43a7-fe72-86c1d1de7a33"
      },
      "execution_count": 29,
      "outputs": [
        {
          "output_type": "execute_result",
          "data": {
            "text/plain": [
              "(tensor([1., 2., 3., 4., 5., 6., 7., 8., 9.]), torch.float32)"
            ]
          },
          "metadata": {},
          "execution_count": 29
        }
      ]
    },
    {
      "cell_type": "code",
      "source": [
        "#changing array to see if tensor array changes\n",
        "array=array+1\n",
        "array,tensor_array"
      ],
      "metadata": {
        "colab": {
          "base_uri": "https://localhost:8080/"
        },
        "id": "B0rUP3ArhLP4",
        "outputId": "c108c28e-35c4-4c6b-b86b-c6781979312a"
      },
      "execution_count": 30,
      "outputs": [
        {
          "output_type": "execute_result",
          "data": {
            "text/plain": [
              "(array([ 2.,  3.,  4.,  5.,  6.,  7.,  8.,  9., 10.]),\n",
              " tensor([1., 2., 3., 4., 5., 6., 7., 8., 9.], dtype=torch.float64))"
            ]
          },
          "metadata": {},
          "execution_count": 30
        }
      ]
    },
    {
      "cell_type": "code",
      "source": [
        "#changing tensor array to see if array changes\n",
        "tensor_array=tensor_array+5\n",
        "tensor_array,array"
      ],
      "metadata": {
        "colab": {
          "base_uri": "https://localhost:8080/"
        },
        "id": "7AAnlPkIhssV",
        "outputId": "130e3f4f-93ef-4a93-c92d-bb4f46a3fe63"
      },
      "execution_count": 31,
      "outputs": [
        {
          "output_type": "execute_result",
          "data": {
            "text/plain": [
              "(tensor([ 6.,  7.,  8.,  9., 10., 11., 12., 13., 14.], dtype=torch.float64),\n",
              " array([ 2.,  3.,  4.,  5.,  6.,  7.,  8.,  9., 10.]))"
            ]
          },
          "metadata": {},
          "execution_count": 31
        }
      ]
    },
    {
      "cell_type": "code",
      "source": [
        "#tensor to numpy\n",
        "new_tensor=torch.arange(1.0,10.0)\n",
        "new_tensor,new_tensor.dtype"
      ],
      "metadata": {
        "colab": {
          "base_uri": "https://localhost:8080/"
        },
        "id": "dUXlDjfiu4ff",
        "outputId": "4892708d-0f60-4715-c701-6e0cf64ddba1"
      },
      "execution_count": 39,
      "outputs": [
        {
          "output_type": "execute_result",
          "data": {
            "text/plain": [
              "(tensor([1., 2., 3., 4., 5., 6., 7., 8., 9.]), torch.float32)"
            ]
          },
          "metadata": {},
          "execution_count": 39
        }
      ]
    },
    {
      "cell_type": "code",
      "source": [
        "new_tensor.numpy()"
      ],
      "metadata": {
        "colab": {
          "base_uri": "https://localhost:8080/"
        },
        "id": "p-X8nNV5vU4i",
        "outputId": "fe7811ea-5c25-46e0-d2e3-a13ddf44babc"
      },
      "execution_count": 40,
      "outputs": [
        {
          "output_type": "execute_result",
          "data": {
            "text/plain": [
              "array([1., 2., 3., 4., 5., 6., 7., 8., 9.], dtype=float32)"
            ]
          },
          "metadata": {},
          "execution_count": 40
        }
      ]
    },
    {
      "cell_type": "markdown",
      "source": [
        "### REPRODUCIBILITY (GENERATING RANDOM FROM RANDOM )\n",
        "\n",
        "- Neural networks learn by > start with random numbers > tensor operations > update numbers to represent the data >update>update until it becomes the best representation of the data .\n",
        "- To reduce the randomness in neural networks PyTorch comes with the concept of random seed known as manual seed ."
      ],
      "metadata": {
        "id": "bdv9jMNDknQR"
      }
    },
    {
      "cell_type": "code",
      "source": [
        "### creating two random tensors\n",
        "\n",
        "tensor_a=torch.rand(3,4)\n",
        "tensor_b=torch.rand(3,4)\n",
        "\n",
        "print(tensor_a)\n",
        "print(tensor_b)\n",
        "print(tensor_a==tensor_b)"
      ],
      "metadata": {
        "colab": {
          "base_uri": "https://localhost:8080/"
        },
        "id": "OhdTJHgwh51J",
        "outputId": "f9a49461-4d8c-4b1b-95fe-aa121ed37f44"
      },
      "execution_count": 32,
      "outputs": [
        {
          "output_type": "stream",
          "name": "stdout",
          "text": [
            "tensor([[0.9381, 0.5464, 0.9986, 0.9301],\n",
            "        [0.7363, 0.4525, 0.1046, 0.4374],\n",
            "        [0.4319, 0.3037, 0.8941, 0.4673]])\n",
            "tensor([[0.3957, 0.9734, 0.4616, 0.1767],\n",
            "        [0.4953, 0.0589, 0.8562, 0.2684],\n",
            "        [0.7738, 0.0965, 0.3171, 0.4909]])\n",
            "tensor([[False, False, False, False],\n",
            "        [False, False, False, False],\n",
            "        [False, False, False, False]])\n"
          ]
        }
      ]
    },
    {
      "cell_type": "code",
      "source": [
        "### setting the seed and creating random tensors with fixed seed\n",
        "random_seed=42\n",
        "\n",
        "### we have to call manual seed function everytime when we create random tensor\n",
        "torch.manual_seed(random_seed)\n",
        "tensor_c=torch.rand(3,4)\n",
        "\n",
        "### we have to call manual seed function everytime when we create random tensor\n",
        "torch.manual_seed(random_seed)\n",
        "tensor_d=torch.rand(3,4)\n",
        "\n",
        "print(tensor_c)\n",
        "print(tensor_d)\n",
        "\n",
        "print(tensor_c==tensor_d)\n"
      ],
      "metadata": {
        "colab": {
          "base_uri": "https://localhost:8080/"
        },
        "id": "FLR4aTR2mO9b",
        "outputId": "933dcde6-b13e-4e16-dd58-22cf8cf52125"
      },
      "execution_count": 34,
      "outputs": [
        {
          "output_type": "stream",
          "name": "stdout",
          "text": [
            "tensor([[0.8823, 0.9150, 0.3829, 0.9593],\n",
            "        [0.3904, 0.6009, 0.2566, 0.7936],\n",
            "        [0.9408, 0.1332, 0.9346, 0.5936]])\n",
            "tensor([[0.8823, 0.9150, 0.3829, 0.9593],\n",
            "        [0.3904, 0.6009, 0.2566, 0.7936],\n",
            "        [0.9408, 0.1332, 0.9346, 0.5936]])\n",
            "tensor([[True, True, True, True],\n",
            "        [True, True, True, True],\n",
            "        [True, True, True, True]])\n"
          ]
        }
      ]
    },
    {
      "cell_type": "markdown",
      "source": [
        "### RUNNING TENSORS AND PYTORCH OBJECTS ON GPU\n",
        "\n",
        "- GPU means faster compuations + NVIDIA hardware + PyTorch working behind the scenes\n",
        "\n",
        "#### GETTING A GPU\n",
        "- google colab\n",
        "- getting your own gpu\n",
        "- cloud computing (gcp/aws/azure)\n",
        "\n",
        "\n",
        "- For Pytorch since it is capable of running compute on GPU or CPU it is best to set the device agnostic code:\n",
        "- \"cuda\" if available else \"cpu\"\n",
        "- https://pytorch.org/docs/stable/notes/cuda.html"
      ],
      "metadata": {
        "id": "VcqcLbzlqdiZ"
      }
    },
    {
      "cell_type": "code",
      "source": [
        "### check for gpu access with Pytorch\n",
        "import torch\n",
        "import numpy as np\n",
        "!nvidia-smi"
      ],
      "metadata": {
        "colab": {
          "base_uri": "https://localhost:8080/"
        },
        "id": "tI9dAb02nGGc",
        "outputId": "96fc4634-14e3-4c9d-fb14-c636cda9fb99"
      },
      "execution_count": 1,
      "outputs": [
        {
          "output_type": "stream",
          "name": "stdout",
          "text": [
            "Mon Feb 19 19:02:49 2024       \n",
            "+---------------------------------------------------------------------------------------+\n",
            "| NVIDIA-SMI 535.104.05             Driver Version: 535.104.05   CUDA Version: 12.2     |\n",
            "|-----------------------------------------+----------------------+----------------------+\n",
            "| GPU  Name                 Persistence-M | Bus-Id        Disp.A | Volatile Uncorr. ECC |\n",
            "| Fan  Temp   Perf          Pwr:Usage/Cap |         Memory-Usage | GPU-Util  Compute M. |\n",
            "|                                         |                      |               MIG M. |\n",
            "|=========================================+======================+======================|\n",
            "|   0  Tesla T4                       Off | 00000000:00:04.0 Off |                    0 |\n",
            "| N/A   57C    P8              10W /  70W |      0MiB / 15360MiB |      0%      Default |\n",
            "|                                         |                      |                  N/A |\n",
            "+-----------------------------------------+----------------------+----------------------+\n",
            "                                                                                         \n",
            "+---------------------------------------------------------------------------------------+\n",
            "| Processes:                                                                            |\n",
            "|  GPU   GI   CI        PID   Type   Process name                            GPU Memory |\n",
            "|        ID   ID                                                             Usage      |\n",
            "|=======================================================================================|\n",
            "|  No running processes found                                                           |\n",
            "+---------------------------------------------------------------------------------------+\n"
          ]
        }
      ]
    },
    {
      "cell_type": "code",
      "source": [
        "torch.cuda.is_available()"
      ],
      "metadata": {
        "colab": {
          "base_uri": "https://localhost:8080/"
        },
        "id": "30EueLSVvhWj",
        "outputId": "1b26b07f-2cf6-4fd5-cecb-9d427790a17b"
      },
      "execution_count": 2,
      "outputs": [
        {
          "output_type": "execute_result",
          "data": {
            "text/plain": [
              "True"
            ]
          },
          "metadata": {},
          "execution_count": 2
        }
      ]
    },
    {
      "cell_type": "code",
      "source": [
        "#set up device agnostic code\n",
        "device=\"cuda\" if torch.cuda.is_available() else \"cpu\"\n",
        "device"
      ],
      "metadata": {
        "colab": {
          "base_uri": "https://localhost:8080/",
          "height": 36
        },
        "id": "3R51XaA4r7ou",
        "outputId": "158b15e7-ea12-4fe4-c7ac-ac2ba5e2ce56"
      },
      "execution_count": 3,
      "outputs": [
        {
          "output_type": "execute_result",
          "data": {
            "text/plain": [
              "'cuda'"
            ],
            "application/vnd.google.colaboratory.intrinsic+json": {
              "type": "string"
            }
          },
          "metadata": {},
          "execution_count": 3
        }
      ]
    },
    {
      "cell_type": "code",
      "source": [
        "## count number of devices\n",
        "torch.cuda.device_count()"
      ],
      "metadata": {
        "colab": {
          "base_uri": "https://localhost:8080/"
        },
        "id": "sZLStQTwsT6e",
        "outputId": "afdc424d-7b54-474b-bdda-84d760473def"
      },
      "execution_count": 4,
      "outputs": [
        {
          "output_type": "execute_result",
          "data": {
            "text/plain": [
              "1"
            ]
          },
          "metadata": {},
          "execution_count": 4
        }
      ]
    },
    {
      "cell_type": "markdown",
      "source": [
        "### PUTTING MODELS AND TENSORS ON THE GPU\n",
        "\n",
        "- because gpu is capable of faster computations"
      ],
      "metadata": {
        "id": "77qPb-4Iv_Np"
      }
    },
    {
      "cell_type": "code",
      "source": [
        "#create a tensor (default on cpu)\n",
        "tensor_a=torch.arange(1,10)\n",
        "\n",
        "tensor_a,tensor_a.device"
      ],
      "metadata": {
        "colab": {
          "base_uri": "https://localhost:8080/"
        },
        "id": "U_AK2zDewOiO",
        "outputId": "3b874e5d-efe4-4f2a-8628-7375802bc3d8"
      },
      "execution_count": 5,
      "outputs": [
        {
          "output_type": "execute_result",
          "data": {
            "text/plain": [
              "(tensor([1, 2, 3, 4, 5, 6, 7, 8, 9]), device(type='cpu'))"
            ]
          },
          "metadata": {},
          "execution_count": 5
        }
      ]
    },
    {
      "cell_type": "code",
      "source": [
        "##moving tensor to device\n",
        "tensor_a.to(device)\n",
        "tensor_a,tensor_a.device"
      ],
      "metadata": {
        "colab": {
          "base_uri": "https://localhost:8080/"
        },
        "id": "OlawrGo7wiFQ",
        "outputId": "56d92b71-9a83-46fa-fdb4-478f6a572877"
      },
      "execution_count": 7,
      "outputs": [
        {
          "output_type": "execute_result",
          "data": {
            "text/plain": [
              "(tensor([1, 2, 3, 4, 5, 6, 7, 8, 9]), device(type='cpu'))"
            ]
          },
          "metadata": {},
          "execution_count": 7
        }
      ]
    },
    {
      "cell_type": "code",
      "source": [
        "tensor_a=tensor_a.to(device)\n",
        "tensor_a,tensor_a.device"
      ],
      "metadata": {
        "colab": {
          "base_uri": "https://localhost:8080/"
        },
        "id": "SaDABw3Swxw2",
        "outputId": "c2060992-a94e-496e-aa0e-09311d5e8ba5"
      },
      "execution_count": 8,
      "outputs": [
        {
          "output_type": "execute_result",
          "data": {
            "text/plain": [
              "(tensor([1, 2, 3, 4, 5, 6, 7, 8, 9], device='cuda:0'),\n",
              " device(type='cuda', index=0))"
            ]
          },
          "metadata": {},
          "execution_count": 8
        }
      ]
    },
    {
      "cell_type": "markdown",
      "source": [
        "### PUTTING TENSORS BACK ON CPU"
      ],
      "metadata": {
        "id": "zHaLxndNz4M9"
      }
    },
    {
      "cell_type": "code",
      "source": [
        "# since numpy runs on cpu can we convert the tensor on gpu to numpy\n",
        "tensor_a=tensor_a.numpy()\n",
        "tensor_a"
      ],
      "metadata": {
        "colab": {
          "base_uri": "https://localhost:8080/",
          "height": 176
        },
        "id": "aOWbU0drxCWN",
        "outputId": "68657653-1fbf-4e5e-f468-3fa786633a10"
      },
      "execution_count": 9,
      "outputs": [
        {
          "output_type": "error",
          "ename": "TypeError",
          "evalue": "can't convert cuda:0 device type tensor to numpy. Use Tensor.cpu() to copy the tensor to host memory first.",
          "traceback": [
            "\u001b[0;31m---------------------------------------------------------------------------\u001b[0m",
            "\u001b[0;31mTypeError\u001b[0m                                 Traceback (most recent call last)",
            "\u001b[0;32m<ipython-input-9-9b2ab49d59d3>\u001b[0m in \u001b[0;36m<cell line: 2>\u001b[0;34m()\u001b[0m\n\u001b[1;32m      1\u001b[0m \u001b[0;31m# since numpy runs on cpu can we convert the tensor on gpu to numpy\u001b[0m\u001b[0;34m\u001b[0m\u001b[0;34m\u001b[0m\u001b[0m\n\u001b[0;32m----> 2\u001b[0;31m \u001b[0mtensor_a\u001b[0m\u001b[0;34m=\u001b[0m\u001b[0mtensor_a\u001b[0m\u001b[0;34m.\u001b[0m\u001b[0mnumpy\u001b[0m\u001b[0;34m(\u001b[0m\u001b[0;34m)\u001b[0m\u001b[0;34m\u001b[0m\u001b[0;34m\u001b[0m\u001b[0m\n\u001b[0m\u001b[1;32m      3\u001b[0m \u001b[0mtensor_a\u001b[0m\u001b[0;34m\u001b[0m\u001b[0;34m\u001b[0m\u001b[0m\n",
            "\u001b[0;31mTypeError\u001b[0m: can't convert cuda:0 device type tensor to numpy. Use Tensor.cpu() to copy the tensor to host memory first."
          ]
        }
      ]
    },
    {
      "cell_type": "code",
      "source": [
        "#to fix numpy with gpu isue we first set the tensor to cpu\n",
        "tensor_a=tensor_a.cpu()\n",
        "tensor_a=tensor_a.numpy()\n",
        "tensor_a"
      ],
      "metadata": {
        "colab": {
          "base_uri": "https://localhost:8080/"
        },
        "id": "gvBEjcwexbkP",
        "outputId": "9d9f8c7d-0653-4205-894f-98a5554fe9af"
      },
      "execution_count": 10,
      "outputs": [
        {
          "output_type": "execute_result",
          "data": {
            "text/plain": [
              "array([1, 2, 3, 4, 5, 6, 7, 8, 9])"
            ]
          },
          "metadata": {},
          "execution_count": 10
        }
      ]
    },
    {
      "cell_type": "code",
      "source": [],
      "metadata": {
        "id": "78pg_I2Kx3TO"
      },
      "execution_count": null,
      "outputs": []
    }
  ]
}