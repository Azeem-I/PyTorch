{
  "nbformat": 4,
  "nbformat_minor": 0,
  "metadata": {
    "colab": {
      "provenance": []
    },
    "kernelspec": {
      "name": "python3",
      "display_name": "Python 3"
    },
    "language_info": {
      "name": "python"
    }
  },
  "cells": [
    {
      "cell_type": "code",
      "execution_count": null,
      "metadata": {
        "id": "uXw8JXz7SgIW"
      },
      "outputs": [],
      "source": [
        "import torch\n",
        "import pandas as pd\n",
        "import numpy as np\n",
        "import matplotlib.pyplot as plt"
      ]
    },
    {
      "cell_type": "code",
      "source": [
        "torch.__version__"
      ],
      "metadata": {
        "colab": {
          "base_uri": "https://localhost:8080/",
          "height": 36
        },
        "id": "OZZdaG9ITq9l",
        "outputId": "c99cbb78-c6a4-463b-eed7-51201a69f450"
      },
      "execution_count": 33,
      "outputs": [
        {
          "output_type": "execute_result",
          "data": {
            "text/plain": [
              "'2.1.0+cu121'"
            ],
            "application/vnd.google.colaboratory.intrinsic+json": {
              "type": "string"
            }
          },
          "metadata": {},
          "execution_count": 33
        }
      ]
    },
    {
      "cell_type": "code",
      "source": [
        "!nvidia-smi"
      ],
      "metadata": {
        "colab": {
          "base_uri": "https://localhost:8080/"
        },
        "id": "Y2pflhoFTufJ",
        "outputId": "337b79a7-2999-4552-e5c6-91594e6f9368"
      },
      "execution_count": 34,
      "outputs": [
        {
          "output_type": "stream",
          "name": "stdout",
          "text": [
            "/bin/bash: line 1: nvidia-smi: command not found\n"
          ]
        }
      ]
    },
    {
      "cell_type": "markdown",
      "source": [],
      "metadata": {
        "id": "KndW736Lnc8b"
      }
    },
    {
      "cell_type": "markdown",
      "source": [
        "### TENSORS IN PYTORCH\n",
        "\n",
        "#### HOW TO CREATE A TENSOR\n",
        "- tensors are created in pytorch using torch.tensor()"
      ],
      "metadata": {
        "id": "bhUggGBYYpsF"
      }
    },
    {
      "cell_type": "code",
      "source": [
        "#scalar\n",
        "scalar=torch.tensor(7)\n",
        "scalar"
      ],
      "metadata": {
        "colab": {
          "base_uri": "https://localhost:8080/"
        },
        "id": "ac5nOqKxUJ-K",
        "outputId": "a9b3ca21-1159-42fe-a0bf-fcb97cf94692"
      },
      "execution_count": null,
      "outputs": [
        {
          "output_type": "execute_result",
          "data": {
            "text/plain": [
              "tensor(7)"
            ]
          },
          "metadata": {},
          "execution_count": 4
        }
      ]
    },
    {
      "cell_type": "code",
      "source": [
        "#checking dimension\n",
        "scalar.ndim"
      ],
      "metadata": {
        "colab": {
          "base_uri": "https://localhost:8080/"
        },
        "id": "IP1c8x5uZMs4",
        "outputId": "f89dd000-7edc-4fe6-c38e-af0ba820b8ca"
      },
      "execution_count": null,
      "outputs": [
        {
          "output_type": "execute_result",
          "data": {
            "text/plain": [
              "0"
            ]
          },
          "metadata": {},
          "execution_count": 5
        }
      ]
    },
    {
      "cell_type": "code",
      "source": [
        "#get scalar back as python integer\n",
        "scalar.item()"
      ],
      "metadata": {
        "colab": {
          "base_uri": "https://localhost:8080/"
        },
        "id": "Eqf-uhdHZ_pf",
        "outputId": "d4982ff5-d05a-4a99-f2c6-ab9a942cf0f3"
      },
      "execution_count": null,
      "outputs": [
        {
          "output_type": "execute_result",
          "data": {
            "text/plain": [
              "7"
            ]
          },
          "metadata": {},
          "execution_count": 6
        }
      ]
    },
    {
      "cell_type": "code",
      "source": [
        "#vector creation\n",
        "vector=torch.tensor([1,2,3,4])\n",
        "print(\"vector dimension : \",vector.ndim)\n",
        "print(\"vector shape :\",vector.shape)"
      ],
      "metadata": {
        "colab": {
          "base_uri": "https://localhost:8080/"
        },
        "id": "JN5IZi3zaNSd",
        "outputId": "201b607d-5f37-4ad8-da71-5c54fac9d037"
      },
      "execution_count": null,
      "outputs": [
        {
          "output_type": "stream",
          "name": "stdout",
          "text": [
            "vector dimension :  1\n",
            "vector shape : torch.Size([4])\n"
          ]
        }
      ]
    },
    {
      "cell_type": "code",
      "source": [
        "vector"
      ],
      "metadata": {
        "colab": {
          "base_uri": "https://localhost:8080/"
        },
        "id": "o4aQxsN6bHaI",
        "outputId": "66b81de2-cf30-4483-97a3-65f98bf52fb8"
      },
      "execution_count": null,
      "outputs": [
        {
          "output_type": "execute_result",
          "data": {
            "text/plain": [
              "tensor([1, 2, 3, 4])"
            ]
          },
          "metadata": {},
          "execution_count": 8
        }
      ]
    },
    {
      "cell_type": "code",
      "source": [
        "#Matrix creation\n",
        "MATRIX=torch.tensor([[4,8],[3,6]])\n",
        "MATRIX"
      ],
      "metadata": {
        "id": "0wSp8kZcbKpc",
        "colab": {
          "base_uri": "https://localhost:8080/"
        },
        "outputId": "fe8e5fbb-3cf4-4109-b3fe-379754337e39"
      },
      "execution_count": null,
      "outputs": [
        {
          "output_type": "execute_result",
          "data": {
            "text/plain": [
              "tensor([[4, 8],\n",
              "        [3, 6]])"
            ]
          },
          "metadata": {},
          "execution_count": 9
        }
      ]
    },
    {
      "cell_type": "code",
      "source": [
        "print(MATRIX.ndim)\n",
        "print(MATRIX.shape)\n"
      ],
      "metadata": {
        "colab": {
          "base_uri": "https://localhost:8080/"
        },
        "id": "kqwlHE-r8YjR",
        "outputId": "ac7a55b2-b95f-4fcf-880b-2868eb642f29"
      },
      "execution_count": null,
      "outputs": [
        {
          "output_type": "stream",
          "name": "stdout",
          "text": [
            "2\n",
            "torch.Size([2, 2])\n"
          ]
        }
      ]
    },
    {
      "cell_type": "code",
      "source": [
        "MATRIX[0] #CHECKING THE FIRST DIMENSION OF MATRIX"
      ],
      "metadata": {
        "colab": {
          "base_uri": "https://localhost:8080/"
        },
        "id": "gAUypjWo8lmh",
        "outputId": "faa16818-4baa-4355-eccb-01d9fb426a35"
      },
      "execution_count": null,
      "outputs": [
        {
          "output_type": "execute_result",
          "data": {
            "text/plain": [
              "tensor([4, 8])"
            ]
          },
          "metadata": {},
          "execution_count": 12
        }
      ]
    },
    {
      "cell_type": "code",
      "source": [
        "MATRIX[1] #CHECKING SECOND DIMENSION OF MATRIX"
      ],
      "metadata": {
        "colab": {
          "base_uri": "https://localhost:8080/"
        },
        "id": "YnZzrheZ81TR",
        "outputId": "9da60123-f3b9-46f9-8e54-69d8f45bee26"
      },
      "execution_count": null,
      "outputs": [
        {
          "output_type": "execute_result",
          "data": {
            "text/plain": [
              "tensor([3, 6])"
            ]
          },
          "metadata": {},
          "execution_count": 13
        }
      ]
    },
    {
      "cell_type": "code",
      "source": [
        "### tensor creation\n",
        "TENSOR=torch.tensor([[[1,2],[3,5],[7,8]]])\n",
        "TENSOR"
      ],
      "metadata": {
        "colab": {
          "base_uri": "https://localhost:8080/"
        },
        "id": "QcpPspY99BYY",
        "outputId": "04a979d2-9052-4bb6-943a-964bc225d330"
      },
      "execution_count": null,
      "outputs": [
        {
          "output_type": "execute_result",
          "data": {
            "text/plain": [
              "tensor([[[1, 2],\n",
              "         [3, 5],\n",
              "         [7, 8]]])"
            ]
          },
          "metadata": {},
          "execution_count": 15
        }
      ]
    },
    {
      "cell_type": "code",
      "source": [
        "#CHECKING SHAPE AND NUMBER OF DIMENSIONS OF A TENSOR\n",
        "print(TENSOR.ndim)\n",
        "print(TENSOR.shape)"
      ],
      "metadata": {
        "colab": {
          "base_uri": "https://localhost:8080/"
        },
        "id": "cGl6ahsM-sz0",
        "outputId": "6343a341-16f1-45ad-da78-5c90fdc12e92"
      },
      "execution_count": null,
      "outputs": [
        {
          "output_type": "stream",
          "name": "stdout",
          "text": [
            "3\n",
            "torch.Size([1, 3, 2])\n"
          ]
        }
      ]
    },
    {
      "cell_type": "code",
      "source": [
        "#checking first dimension of tensor\n",
        "TENSOR[0]"
      ],
      "metadata": {
        "colab": {
          "base_uri": "https://localhost:8080/"
        },
        "id": "rgt1HOKq_DD4",
        "outputId": "2ca21b91-f3cb-4ed1-b1b2-7e49c3862138"
      },
      "execution_count": null,
      "outputs": [
        {
          "output_type": "execute_result",
          "data": {
            "text/plain": [
              "tensor([[1, 2],\n",
              "        [3, 5],\n",
              "        [7, 8]])"
            ]
          },
          "metadata": {},
          "execution_count": 21
        }
      ]
    },
    {
      "cell_type": "markdown",
      "source": [
        "### RANDOM TENSORS\n",
        "\n",
        "#### WHY RANDOM TENSORS?\n",
        "\n",
        "- In most of the neural networks weights can be represented as tensors and they are are randomly initialized and later on they are updated according to the data.\n",
        "\n",
        "- https://pytorch.org/docs/stable/generated/torch.rand.html"
      ],
      "metadata": {
        "id": "WApp3Db8BuBQ"
      }
    },
    {
      "cell_type": "code",
      "source": [
        "#creating a first random tensor of size 4,5\n",
        "rand_tensor_1=torch.rand(size=(4,5))\n",
        "rand_tensor_1\n"
      ],
      "metadata": {
        "colab": {
          "base_uri": "https://localhost:8080/"
        },
        "id": "ePXWAZh6_QI4",
        "outputId": "0c66767b-7c1f-4182-9647-9ffdf848b782"
      },
      "execution_count": null,
      "outputs": [
        {
          "output_type": "execute_result",
          "data": {
            "text/plain": [
              "tensor([[0.8461, 0.9889, 0.2631, 0.5287, 0.9381],\n",
              "        [0.7129, 0.4071, 0.2319, 0.0113, 0.8825],\n",
              "        [0.1365, 0.5093, 0.1986, 0.7589, 0.8631],\n",
              "        [0.3759, 0.8207, 0.1591, 0.8784, 0.8027]])"
            ]
          },
          "metadata": {},
          "execution_count": 23
        }
      ]
    },
    {
      "cell_type": "code",
      "source": [
        "rand_tensor_1.shape,rand_tensor_1.ndim"
      ],
      "metadata": {
        "colab": {
          "base_uri": "https://localhost:8080/"
        },
        "id": "xCYUs7qj_VD4",
        "outputId": "5595d45a-0175-4c2a-c9bf-4e837fc842c9"
      },
      "execution_count": null,
      "outputs": [
        {
          "output_type": "execute_result",
          "data": {
            "text/plain": [
              "(torch.Size([4, 5]), 2)"
            ]
          },
          "metadata": {},
          "execution_count": 24
        }
      ]
    },
    {
      "cell_type": "code",
      "source": [
        "### creating a tensor like an image array\n",
        "# since image has three channels in pytorch it is represented as colour,height,width\n",
        "#this is just represenation and not real image\n",
        "image_tensor=torch.rand(size=(3,224,224))\n",
        "image_tensor"
      ],
      "metadata": {
        "colab": {
          "base_uri": "https://localhost:8080/"
        },
        "id": "p3K1-wHKFCgO",
        "outputId": "dc79333b-4454-4684-addb-75d7938ccfda"
      },
      "execution_count": null,
      "outputs": [
        {
          "output_type": "execute_result",
          "data": {
            "text/plain": [
              "tensor([[[0.5284, 0.4815, 0.9509,  ..., 0.3680, 0.7564, 0.8481],\n",
              "         [0.1896, 0.6525, 0.1713,  ..., 0.2682, 0.7406, 0.6966],\n",
              "         [0.8376, 0.7194, 0.4699,  ..., 0.6384, 0.3079, 0.4435],\n",
              "         ...,\n",
              "         [0.7638, 0.9583, 0.8177,  ..., 0.7507, 0.3510, 0.8878],\n",
              "         [0.3870, 0.3855, 0.8604,  ..., 0.4913, 0.8828, 0.1487],\n",
              "         [0.4288, 0.2662, 0.1838,  ..., 0.5379, 0.8484, 0.9930]],\n",
              "\n",
              "        [[0.2928, 0.2251, 0.8091,  ..., 0.6137, 0.1562, 0.5190],\n",
              "         [0.4252, 0.3132, 0.7767,  ..., 0.1430, 0.7563, 0.5577],\n",
              "         [0.9468, 0.7525, 0.3593,  ..., 0.8498, 0.5739, 0.9168],\n",
              "         ...,\n",
              "         [0.1006, 0.7611, 0.5111,  ..., 0.7498, 0.7711, 0.8727],\n",
              "         [0.5773, 0.3831, 0.3417,  ..., 0.3454, 0.6902, 0.4499],\n",
              "         [0.9830, 0.8301, 0.9577,  ..., 0.1808, 0.3364, 0.3283]],\n",
              "\n",
              "        [[0.1378, 0.2478, 0.2263,  ..., 0.4553, 0.3329, 0.7095],\n",
              "         [0.8132, 0.6496, 0.1652,  ..., 0.2238, 0.3291, 0.2906],\n",
              "         [0.1361, 0.3791, 0.9064,  ..., 0.3908, 0.2529, 0.3391],\n",
              "         ...,\n",
              "         [0.5122, 0.5869, 0.8891,  ..., 0.9400, 0.7462, 0.2401],\n",
              "         [0.6781, 0.6045, 0.6019,  ..., 0.6842, 0.0254, 0.6895],\n",
              "         [0.2578, 0.3886, 0.7974,  ..., 0.5346, 0.2677, 0.5225]]])"
            ]
          },
          "metadata": {},
          "execution_count": 26
        }
      ]
    },
    {
      "cell_type": "markdown",
      "source": [
        "#### CREATING TENSORS OF SZEROS AND ONES\n"
      ],
      "metadata": {
        "id": "KIj1NNh4G-Lx"
      }
    },
    {
      "cell_type": "code",
      "source": [
        "ZERO_TENSOR=torch.zeros(size=(2,3,4))\n",
        "ZERO_TENSOR"
      ],
      "metadata": {
        "colab": {
          "base_uri": "https://localhost:8080/"
        },
        "id": "d0CkE4FAFJmg",
        "outputId": "ca360bf2-1e57-4b19-80e8-a36765806b72"
      },
      "execution_count": null,
      "outputs": [
        {
          "output_type": "execute_result",
          "data": {
            "text/plain": [
              "tensor([[[0., 0., 0., 0.],\n",
              "         [0., 0., 0., 0.],\n",
              "         [0., 0., 0., 0.]],\n",
              "\n",
              "        [[0., 0., 0., 0.],\n",
              "         [0., 0., 0., 0.],\n",
              "         [0., 0., 0., 0.]]])"
            ]
          },
          "metadata": {},
          "execution_count": 27
        }
      ]
    },
    {
      "cell_type": "code",
      "source": [
        "ONES_TENSOR=torch.ones(size=(2,3,4))\n",
        "ONES_TENSOR"
      ],
      "metadata": {
        "colab": {
          "base_uri": "https://localhost:8080/"
        },
        "id": "GRk8dH6lHUnN",
        "outputId": "ce135699-d6c5-40a7-d719-33d9553a9e04"
      },
      "execution_count": null,
      "outputs": [
        {
          "output_type": "execute_result",
          "data": {
            "text/plain": [
              "tensor([[[1., 1., 1., 1.],\n",
              "         [1., 1., 1., 1.],\n",
              "         [1., 1., 1., 1.]],\n",
              "\n",
              "        [[1., 1., 1., 1.],\n",
              "         [1., 1., 1., 1.],\n",
              "         [1., 1., 1., 1.]]])"
            ]
          },
          "metadata": {},
          "execution_count": 28
        }
      ]
    },
    {
      "cell_type": "markdown",
      "source": [
        "#### CREATING TENSORS WITH RANGE AND TENSORS LIKE\n",
        "-https://pytorch.org/docs/stable/generated/torch.arange.html"
      ],
      "metadata": {
        "id": "Q68oDKb5I3yV"
      }
    },
    {
      "cell_type": "code",
      "source": [
        "### creating tensors with range 20 to 30\n",
        "twenty_thirty=torch.arange(20,31)\n",
        "twenty_thirty"
      ],
      "metadata": {
        "colab": {
          "base_uri": "https://localhost:8080/"
        },
        "id": "3bKF-Lz9HlPs",
        "outputId": "2f4948fe-a5d2-499e-f9c2-aaf161c1c151"
      },
      "execution_count": null,
      "outputs": [
        {
          "output_type": "execute_result",
          "data": {
            "text/plain": [
              "tensor([20, 21, 22, 23, 24, 25, 26, 27, 28, 29, 30])"
            ]
          },
          "metadata": {},
          "execution_count": 29
        }
      ]
    },
    {
      "cell_type": "code",
      "source": [
        "floating=torch.arange(1,5,0.5)\n",
        "floating"
      ],
      "metadata": {
        "colab": {
          "base_uri": "https://localhost:8080/"
        },
        "id": "XdpDAbN_JUeR",
        "outputId": "ec63da6b-7603-4312-9aa4-b8fb99a1baf8"
      },
      "execution_count": null,
      "outputs": [
        {
          "output_type": "execute_result",
          "data": {
            "text/plain": [
              "tensor([1.0000, 1.5000, 2.0000, 2.5000, 3.0000, 3.5000, 4.0000, 4.5000])"
            ]
          },
          "metadata": {},
          "execution_count": 30
        }
      ]
    },
    {
      "cell_type": "code",
      "source": [
        "#creating tensors like\n",
        "#it creates tensors with same shape as given in input withall values as zeros\n",
        "tensor_like=torch.zeros_like(input=floating)\n",
        "tensor_like"
      ],
      "metadata": {
        "colab": {
          "base_uri": "https://localhost:8080/"
        },
        "id": "uc3PJWaRKf2l",
        "outputId": "7fd41c16-b705-4e10-e8a2-41bda888494d"
      },
      "execution_count": null,
      "outputs": [
        {
          "output_type": "execute_result",
          "data": {
            "text/plain": [
              "tensor([0., 0., 0., 0., 0., 0., 0., 0.])"
            ]
          },
          "metadata": {},
          "execution_count": 32
        }
      ]
    },
    {
      "cell_type": "markdown",
      "source": [
        "### TENSOR DATATYPES\n",
        "\n",
        "Tensors datatype are on of the three reasons of getting error with Pytorch and deep learning.\n",
        "- Tensors not datatype\n",
        "- Tensors not right shape\n",
        "- Tensors not on right device  \n",
        "\n",
        "\n",
        "- If the two tensors are not of same datatype then we may run into an error\n",
        "- If the two Tensors are not on same device then also we can encounter an error\n",
        "\n",
        "\n",
        "- https://en.wikipedia.org/wiki/Precision_(computer_science)"
      ],
      "metadata": {
        "id": "0v5lQMclcBll"
      }
    },
    {
      "cell_type": "code",
      "source": [
        "float_32_tensor=torch.tensor([[1,2,3],[4,5,6]],\n",
        "                             dtype=torch.float32,#what dataype is tensor eg torch.float32 or torch.float16\n",
        "                             device=None,#on which device the tensor is\n",
        "                             requires_grad=False)# whetherto track the gradient during tensor operations\n",
        "float_32_tensor,float_32_tensor.dtype"
      ],
      "metadata": {
        "id": "phDgx3mcLVit",
        "colab": {
          "base_uri": "https://localhost:8080/"
        },
        "outputId": "678c53e6-a1b0-496c-97bc-92163ceb94b3"
      },
      "execution_count": 41,
      "outputs": [
        {
          "output_type": "execute_result",
          "data": {
            "text/plain": [
              "(tensor([[1., 2., 3.],\n",
              "         [4., 5., 6.]]),\n",
              " torch.float32)"
            ]
          },
          "metadata": {},
          "execution_count": 41
        }
      ]
    },
    {
      "cell_type": "code",
      "source": [
        "#changing to another dtype\n",
        "float_16_tensor=float_32_tensor.type(torch.float16)\n",
        "float_16_tensor"
      ],
      "metadata": {
        "colab": {
          "base_uri": "https://localhost:8080/"
        },
        "id": "uMpOC2oQcpzx",
        "outputId": "828a66e7-fd03-4969-c7f3-c77d5b8f44d8"
      },
      "execution_count": 42,
      "outputs": [
        {
          "output_type": "execute_result",
          "data": {
            "text/plain": [
              "tensor([[1., 2., 3.],\n",
              "        [4., 5., 6.]], dtype=torch.float16)"
            ]
          },
          "metadata": {},
          "execution_count": 42
        }
      ]
    },
    {
      "cell_type": "code",
      "source": [
        "#multiplying different dtype tensor\n",
        "float_16_tensor*float_32_tensor"
      ],
      "metadata": {
        "colab": {
          "base_uri": "https://localhost:8080/"
        },
        "id": "x1HP2mjHgfdl",
        "outputId": "c9d629f1-08e9-4da1-b1b9-dbbf36ed1cc3"
      },
      "execution_count": 43,
      "outputs": [
        {
          "output_type": "execute_result",
          "data": {
            "text/plain": [
              "tensor([[ 1.,  4.,  9.],\n",
              "        [16., 25., 36.]])"
            ]
          },
          "metadata": {},
          "execution_count": 43
        }
      ]
    },
    {
      "cell_type": "code",
      "source": [
        "#creating int16 tensor\n",
        "int_16_tensor=torch.tensor([[1,2,3],[4,5,6]],dtype=torch.int16)\n",
        "int_16_tensor"
      ],
      "metadata": {
        "colab": {
          "base_uri": "https://localhost:8080/"
        },
        "id": "vmGFzYsuglBM",
        "outputId": "6f1fcdad-0c02-4de2-c8cf-71e9bdd5b332"
      },
      "execution_count": 44,
      "outputs": [
        {
          "output_type": "execute_result",
          "data": {
            "text/plain": [
              "tensor([[1, 2, 3],\n",
              "        [4, 5, 6]], dtype=torch.int16)"
            ]
          },
          "metadata": {},
          "execution_count": 44
        }
      ]
    },
    {
      "cell_type": "code",
      "source": [
        "#multiplying int16 tensor with float32 tensor\n",
        "int_16_tensor*float_32_tensor"
      ],
      "metadata": {
        "colab": {
          "base_uri": "https://localhost:8080/"
        },
        "id": "lHPCsTSXjFzX",
        "outputId": "feb36364-e189-4bce-a696-dd28021281e6"
      },
      "execution_count": 45,
      "outputs": [
        {
          "output_type": "execute_result",
          "data": {
            "text/plain": [
              "tensor([[ 1.,  4.,  9.],\n",
              "        [16., 25., 36.]])"
            ]
          },
          "metadata": {},
          "execution_count": 45
        }
      ]
    },
    {
      "cell_type": "markdown",
      "source": [
        "### GETTING INFORMATION FROM TENSORS (TENSORS ATTRIBUTES)\n",
        "\n",
        "\n",
        "\n",
        "- checking tensors dataype : tensor.dtype\n",
        "- checking tensor shape : tensor.shape\n",
        "- checking device on which tensor is :tensor.device"
      ],
      "metadata": {
        "id": "ajAahDU0kdPB"
      }
    },
    {
      "cell_type": "code",
      "source": [
        "random_tensor=torch.rand(size=(2,3,4))\n",
        "random_tensor"
      ],
      "metadata": {
        "colab": {
          "base_uri": "https://localhost:8080/"
        },
        "id": "fMGDpnHakZbh",
        "outputId": "824a59e3-90e0-4ec0-f634-9d2d3f1902ca"
      },
      "execution_count": 46,
      "outputs": [
        {
          "output_type": "execute_result",
          "data": {
            "text/plain": [
              "tensor([[[0.1242, 0.1194, 0.5113, 0.6389],\n",
              "         [0.4140, 0.6871, 0.5604, 0.7618],\n",
              "         [0.1280, 0.3307, 0.9163, 0.8571]],\n",
              "\n",
              "        [[0.8831, 0.8119, 0.5738, 0.3273],\n",
              "         [0.8460, 0.4504, 0.9879, 0.1001],\n",
              "         [0.4574, 0.4146, 0.3792, 0.3983]]])"
            ]
          },
          "metadata": {},
          "execution_count": 46
        }
      ]
    },
    {
      "cell_type": "code",
      "source": [
        "print(\"Dataype of tensor \",random_tensor.dtype)\n",
        "print(\"Shape of tensor :\",random_tensor.shape)\n",
        "print(\"Device :\",random_tensor.device)"
      ],
      "metadata": {
        "colab": {
          "base_uri": "https://localhost:8080/"
        },
        "id": "emZCtU0klfZA",
        "outputId": "3996c9be-2742-49fb-8743-50f133238486"
      },
      "execution_count": 47,
      "outputs": [
        {
          "output_type": "stream",
          "name": "stdout",
          "text": [
            "Dataype of tensor  torch.float32\n",
            "Shape of tensor : torch.Size([2, 3, 4])\n",
            "Device : cpu\n"
          ]
        }
      ]
    },
    {
      "cell_type": "code",
      "source": [],
      "metadata": {
        "id": "ibNAA_6_lzvf"
      },
      "execution_count": null,
      "outputs": []
    }
  ]
}